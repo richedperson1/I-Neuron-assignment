{
 "cells": [
  {
   "cell_type": "markdown",
   "id": "e1532186",
   "metadata": {},
   "source": [
    "### 1. In the below elements which of them are values or an expression? e.g.: - values can be integer or string and expressions will be mathematical operators.\n",
    "\n",
    "\n",
    "## \n",
    "   \n",
    "1.  { * } ,        Operators\n",
    "\n",
    "2. {'hello'} ,      Expression\n",
    "3. { -87.8} ,       Expression\n",
    "4.    { -} ,        Operators\n",
    "5.    { /} ,        Operators\n",
    "6.    { +} ,        Operators\n",
    "7.    { 6}          Expression\n"
   ]
  },
  {
   "cell_type": "markdown",
   "id": "6f88c389",
   "metadata": {},
   "source": [
    "### 2. What is the difference between string and variable\n",
    "\n",
    "Ans:\n",
    "1. Variable: Variable is like a container which is used to store value(data-type) or information \n",
    "2. String:  It’s a data type which is wrapped inside single, double or triple quotes (multiline string). String is stored in variable."
   ]
  },
  {
   "cell_type": "markdown",
   "id": "15fc7efc",
   "metadata": {},
   "source": [
    "### 3. Describe three different data types.\n",
    "\n",
    "\n",
    "Three Data type are:-)\n",
    "\n",
    "    1.\tInteger data type: Integers are zero, Positive or negative whole numbers without a fractional. Integers can be binary, octal, and hexadecimal value\n",
    "    \n",
    "    2.\tFloat data type: Float can used to store floating point values and represent real number (store decimal value)\n",
    "    \n",
    "    3.\tString data type: String is sequence of characters. A string is collection of 1 or more characters and wrapped inside single, double or triple quotes (multi-line string). String is stored in variable.\n"
   ]
  },
  {
   "cell_type": "code",
   "execution_count": 14,
   "id": "ce40fe55",
   "metadata": {},
   "outputs": [
    {
     "name": "stdout",
     "output_type": "stream",
     "text": [
      "4567 ----------------------------> <class 'int'>\n",
      "1.8955 --------------------------> <class 'float'>\n",
      "❤️ Thank you i-neuron ...! ❤️ --> <class 'str'>\n"
     ]
    }
   ],
   "source": [
    "# Example for INT data type\n",
    "INT=4567\n",
    "print(INT, \"---------------------------->\",type(INT))\n",
    "\n",
    "\n",
    "# Example for float data type\n",
    "Float=1.8955\n",
    "print(Float, \"-------------------------->\",type(Float))\n",
    "\n",
    "\n",
    "# Example for Complex data type\n",
    "Str = \"\\u2764\\ufe0f Thank you i-neuron ...! \\u2764\\ufe0f\"\n",
    "print(Str, \"-->\",type(Str))"
   ]
  },
  {
   "cell_type": "markdown",
   "id": "cddedfdf",
   "metadata": {},
   "source": [
    "### 4. What is an expression made up of? What do all expressions do?\n",
    "\n",
    "\n",
    "1. An expression is a combination of values, variables, operators, and calls to functions. Expressions need to be evaluated.Python print an expression result into console , the interpreter evaluates the expression and displays the result."
   ]
  },
  {
   "cell_type": "code",
   "execution_count": 17,
   "id": "11586624",
   "metadata": {},
   "outputs": [
    {
     "name": "stdout",
     "output_type": "stream",
     "text": [
      "The result of expression is :  34.5\n"
     ]
    }
   ],
   "source": [
    "# Expression result \n",
    "expression = 7*5 - 5+6-9/6\n",
    "print(\"The result of expression is : \" ,expression)"
   ]
  },
  {
   "cell_type": "markdown",
   "id": "6dd55eb3",
   "metadata": {},
   "source": [
    "### 5. This assignment statements, like spam = 10. What is the difference between an expression and a statement?\n",
    "\n",
    "Expression : An expression is a combination of values, variables, operators, and calls to functions. Expressions need to be evaluated.Python print an expression result into console , the interpreter evaluates the expression and displays the result.\n",
    "\n",
    "Statement : A statement is an instruction that a Python interpreter can execute.we can say anything written in Python is a statement"
   ]
  },
  {
   "cell_type": "markdown",
   "id": "001c9457",
   "metadata": {},
   "source": [
    "### 6. After running the following code, what does the variable bacon contain?\n",
    "\n",
    " bacon = 22\n",
    "\n",
    " bacon + 1\n",
    "\n",
    "Ans:\n",
    "bacon contain 22\n"
   ]
  },
  {
   "cell_type": "code",
   "execution_count": 19,
   "id": "9e244bbe",
   "metadata": {},
   "outputs": [
    {
     "name": "stdout",
     "output_type": "stream",
     "text": [
      "22\n"
     ]
    }
   ],
   "source": [
    "baccon = 22\n",
    "bacon+1\n",
    "print(baccon)"
   ]
  },
  {
   "cell_type": "markdown",
   "id": "27b70116",
   "metadata": {},
   "source": [
    "### 7. What should the values of the following two terms be?\n",
    "\n",
    "'spam' + 'spamspam'\n",
    "\n",
    "\n",
    "'spam' * 3\n",
    "\n",
    "Ans : \n",
    "\n",
    "Both expressions evaluate to the string 'spamspamspam' Where as the first expression follows String Concatentation and the second expression follows String Multiplication\n",
    "\n"
   ]
  },
  {
   "cell_type": "markdown",
   "id": "ff3e7535",
   "metadata": {},
   "source": [
    "### 8. Why is eggs a valid variable name while 100 is invalid?\n",
    "\n",
    "As per python,Variable names cannot begin with a number. The python rules for naming a variable are :-\n",
    "\n",
    "1. Variable name must start with a letter or the underscore character.\n",
    "2. Variable name cannot start with a number.\n",
    "3. Variable name can only contain alpha-numeric characters and underscores (A-z, 0-9, & _ ).\n",
    "4. Variable names are case-sensitive (name, INEURON and ineuron are three different variables).\n",
    "5. The reserved words(keywords) cannot be used naming the variable."
   ]
  },
  {
   "cell_type": "markdown",
   "id": "e542b7c1",
   "metadata": {},
   "source": [
    "### 9.What three functions can be used to get the integer,floating-point number,or string version of a value?\n",
    "\n",
    "Ans:\n",
    "\n",
    "The int(), float(), and str() functions will evaluate to the integer, floating-point number, and string value respectively\n",
    "\n"
   ]
  },
  {
   "cell_type": "code",
   "execution_count": 20,
   "id": "115dbc44",
   "metadata": {},
   "outputs": [
    {
     "name": "stdout",
     "output_type": "stream",
     "text": [
      "int(10.0) ->  10\n",
      "float(10) ->  10.0\n",
      "str(10) ->  10\n"
     ]
    }
   ],
   "source": [
    "print('int(10.0) -> ',int(10.0)) # int() function converts given input to int\n",
    "print('float(10) -> ',float(10)) # float() function converts given input to float\n",
    "print('str(10) -> ',str(10)) # str() function converts given input to string"
   ]
  },
  {
   "cell_type": "markdown",
   "id": "6cb06098",
   "metadata": {},
   "source": [
    "### 10.Why does this expression cause an error? how can you fix it?\n",
    "\n",
    "'I have eaten ' + 99 + 'burritos. \n",
    "\n",
    "Ans : \n",
    "\n",
    "Above expression two different data type 1  is integers and other is string. we can'nt do arithmetic  operation between string and interger.If we want to do it then we need to typecast it into string then we can do it. above expression can be \n",
    "\n",
    "'I have eaten ' + str(99) + 'burritos\n",
    "\n",
    "written like this so it fix error"
   ]
  },
  {
   "cell_type": "code",
   "execution_count": 23,
   "id": "55549ada",
   "metadata": {},
   "outputs": [
    {
     "name": "stdout",
     "output_type": "stream",
     "text": [
      "❤️ Thank you i-neuron team ...! ❤️\n"
     ]
    }
   ],
   "source": [
    "print(\"\\u2764\\ufe0f Thank you i-neuron team ...! \\u2764\\ufe0f\")"
   ]
  }
 ],
 "metadata": {
  "kernelspec": {
   "display_name": "Python 3 (ipykernel)",
   "language": "python",
   "name": "python3"
  },
  "language_info": {
   "codemirror_mode": {
    "name": "ipython",
    "version": 3
   },
   "file_extension": ".py",
   "mimetype": "text/x-python",
   "name": "python",
   "nbconvert_exporter": "python",
   "pygments_lexer": "ipython3",
   "version": "3.9.6"
  }
 },
 "nbformat": 4,
 "nbformat_minor": 5
}
