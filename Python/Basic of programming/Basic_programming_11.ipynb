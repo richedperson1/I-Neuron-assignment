{
 "cells": [
  {
   "cell_type": "markdown",
   "id": "4da246e0",
   "metadata": {},
   "source": [
    "# Task 1"
   ]
  },
  {
   "cell_type": "code",
   "execution_count": 1,
   "id": "61033fec",
   "metadata": {},
   "outputs": [
    {
     "name": "stdout",
     "output_type": "stream",
     "text": [
      "['geeks']\n"
     ]
    }
   ],
   "source": [
    "# Python program to find words which are greater than given length k\n",
    "def greater_than_k(s,k):\n",
    "    s = s.split(' ')\n",
    "    form = []\n",
    "    for word in s:\n",
    "        if len(word)>k:\n",
    "            form.append(word)\n",
    "    return form\n",
    "\n",
    "k = 4\n",
    "str =\"geek for geeks\"\n",
    "print(greater_than_k( str,k))"
   ]
  },
  {
   "cell_type": "markdown",
   "id": "bacbf319",
   "metadata": {},
   "source": [
    "# Task 2"
   ]
  },
  {
   "cell_type": "code",
   "execution_count": 2,
   "id": "808c3b08",
   "metadata": {},
   "outputs": [
    {
     "data": {
      "text/plain": [
       "'rutvik'"
      ]
     },
     "execution_count": 2,
     "metadata": {},
     "output_type": "execute_result"
    }
   ],
   "source": [
    "# Python program for removing i-th character from a string\n",
    "def remove_i(s,i):\n",
    "    try:\n",
    "        return s[:i]+s[i+1:]\n",
    "    except Exception as e:\n",
    "        return e\n",
    "    \n",
    "s = 'rutvik'\n",
    "remove_i(s,8)"
   ]
  },
  {
   "cell_type": "markdown",
   "id": "fba12fe8",
   "metadata": {},
   "source": [
    "# Task 3"
   ]
  },
  {
   "cell_type": "code",
   "execution_count": 3,
   "id": "fcb5eb1c",
   "metadata": {},
   "outputs": [
    {
     "name": "stdout",
     "output_type": "stream",
     "text": [
      "Before spliting string : n\n",
      "i-Neuron is best among all Edtech \n",
      "\n",
      "After splitting string : \n",
      "['i-Neuron', 'is', 'best', 'among', 'all', 'Edtech']\n",
      "------------------------------------------------------------\n",
      "Again after Joining : \n",
      "i-Neuron is best among all Edtech\n"
     ]
    }
   ],
   "source": [
    "# Python program to split and join a string\n",
    "\n",
    "string = \"i-Neuron is best among all Edtech\"\n",
    "\n",
    "def split_data(string):\n",
    "    try:\n",
    "        return string.split(' ')\n",
    "    except Exception as e:\n",
    "        return e\n",
    "    \n",
    "print(\"Before spliting string : n\")\n",
    "print(string,'\\n')\n",
    "print(\"After splitting string : \")\n",
    "print(split_data(string))\n",
    "print(\"-\"*60)\n",
    "def join_split(arr):\n",
    "    try:\n",
    "        a = ' '.join(arr)\n",
    "        return a\n",
    "    except Exception as e:\n",
    "        return e\n",
    "\n",
    "print(\"Again after Joining : \")    \n",
    "string_split = split_data(string)\n",
    "arr = join_split(string_split)\n",
    "print(arr)"
   ]
  },
  {
   "cell_type": "markdown",
   "id": "c4cc893f",
   "metadata": {},
   "source": [
    "# Task 4"
   ]
  },
  {
   "cell_type": "code",
   "execution_count": 16,
   "id": "2c5ba38b",
   "metadata": {},
   "outputs": [
    {
     "name": "stdout",
     "output_type": "stream",
     "text": [
      "True\n"
     ]
    }
   ],
   "source": [
    "# Python to check if a given string is binary string or not\n",
    "at = '10011'\n",
    "def string_binary(string):\n",
    "    unique = set(string)\n",
    "    return unique=={'0','1'}\n",
    "print(string_binary(at))"
   ]
  },
  {
   "cell_type": "markdown",
   "id": "c3bc5118",
   "metadata": {},
   "source": [
    "# Task 5"
   ]
  },
  {
   "cell_type": "code",
   "execution_count": 40,
   "id": "e89f89e9",
   "metadata": {},
   "outputs": [
    {
     "name": "stdout",
     "output_type": "stream",
     "text": [
      "Uncommon word in two amazon and amaztn2 is : \n",
      "['o', 't', '2']\n"
     ]
    }
   ],
   "source": [
    "# Write a Python program to find uncommon words from two Strings\n",
    "string1 = \"amazon\"\n",
    "string2 = \"amaztn2\"\n",
    "\n",
    "def uncommon(a,b):\n",
    "    return list(set(a)^set(b))\n",
    "print(f\"Uncommon word in two {string1} and {string2} is : \")\n",
    "print(uncommon(string1,string2))"
   ]
  },
  {
   "cell_type": "markdown",
   "id": "c49c47d3",
   "metadata": {},
   "source": [
    "# Task 6"
   ]
  },
  {
   "cell_type": "code",
   "execution_count": 60,
   "id": "b057eeea",
   "metadata": {},
   "outputs": [
    {
     "name": "stdout",
     "output_type": "stream",
     "text": [
      "['i', 'n', 'e', 's']\n"
     ]
    }
   ],
   "source": [
    "# Python to find all duplicate characters in string\n",
    "string = \"i-neuron is best\"\n",
    "dist = {}\n",
    "for word in string:\n",
    "    if word==\" \":\n",
    "        continue\n",
    "    if word in dist:\n",
    "        dist[word]+=1\n",
    "    else:\n",
    "        dist[word] = 1\n",
    "# print(dist)\n",
    "lst = []\n",
    "for word in dist.keys():\n",
    "    if dist[word]>1:\n",
    "        lst.append(word)\n",
    "        \n",
    "print(lst)"
   ]
  },
  {
   "cell_type": "markdown",
   "id": "1cb112c4",
   "metadata": {},
   "source": [
    "# Task 7 "
   ]
  },
  {
   "cell_type": "code",
   "execution_count": 63,
   "id": "8d705306",
   "metadata": {},
   "outputs": [
    {
     "name": "stdout",
     "output_type": "stream",
     "text": [
      "Is string contains any special character? : False\n"
     ]
    }
   ],
   "source": [
    "# Python Program to check if a string contains any special character\n",
    "\n",
    "string = \"rutvik*\"\n",
    "\n",
    "print(f\"Is string contains any special character? : {string.isalnum()}\") "
   ]
  },
  {
   "cell_type": "raw",
   "id": "fe4c2b84",
   "metadata": {},
   "source": []
  },
  {
   "cell_type": "code",
   "execution_count": 61,
   "id": "0bd48f88",
   "metadata": {},
   "outputs": [
    {
     "name": "stdout",
     "output_type": "stream",
     "text": [
      "❤️ Thank you i-Neuron Team ...! ❤️\n"
     ]
    }
   ],
   "source": [
    "print(\"\\u2764\\ufe0f Thank you i-Neuron Team ...! \\u2764\\ufe0f\")"
   ]
  },
  {
   "cell_type": "markdown",
   "id": "04af41a1",
   "metadata": {},
   "source": [
    "## End"
   ]
  }
 ],
 "metadata": {
  "kernelspec": {
   "display_name": "Python 3 (ipykernel)",
   "language": "python",
   "name": "python3"
  },
  "language_info": {
   "codemirror_mode": {
    "name": "ipython",
    "version": 3
   },
   "file_extension": ".py",
   "mimetype": "text/x-python",
   "name": "python",
   "nbconvert_exporter": "python",
   "pygments_lexer": "ipython3",
   "version": "3.9.6"
  }
 },
 "nbformat": 4,
 "nbformat_minor": 5
}
