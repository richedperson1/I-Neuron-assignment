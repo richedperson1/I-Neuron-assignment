{
 "cells": [
  {
   "cell_type": "markdown",
   "id": "a550d2b9",
   "metadata": {},
   "source": [
    "# Importing library"
   ]
  },
  {
   "cell_type": "code",
   "execution_count": 95,
   "id": "cb04adfd",
   "metadata": {},
   "outputs": [],
   "source": [
    "import calendar\n",
    "import cmath\n",
    "from colorama import Fore, Back, Style"
   ]
  },
  {
   "cell_type": "markdown",
   "id": "195eea5b",
   "metadata": {},
   "source": [
    "## Task 1"
   ]
  },
  {
   "cell_type": "code",
   "execution_count": 108,
   "id": "b5b69525",
   "metadata": {},
   "outputs": [
    {
     "name": "stdout",
     "output_type": "stream",
     "text": [
      " Put the value in km 42\n",
      "\u001b[46m \u001b[1m42 Km = 26.10316967060286 Miles\n"
     ]
    }
   ],
   "source": [
    "# converting kilometers to miles\n",
    "def kilo_to_miles():\n",
    "    try:\n",
    "        km = int(input(\" Put the value in km \",))\n",
    "        return(Back.CYAN+f\" \\033[1m{km} Km = {km/1.609} Miles\")\n",
    "    \n",
    "    except:\n",
    "        \n",
    "        return(Fore.RED +\"\\033[1mPlease Put value in integers ...!\")\n",
    "\n",
    "\n",
    "print(kilo_to_miles())\n"
   ]
  },
  {
   "cell_type": "markdown",
   "id": "40b5a2c5",
   "metadata": {},
   "source": [
    "## Task 2 "
   ]
  },
  {
   "cell_type": "code",
   "execution_count": 104,
   "id": "a21f9505",
   "metadata": {},
   "outputs": [
    {
     "name": "stdout",
     "output_type": "stream",
     "text": [
      " Write the Value in Celsius 45\n",
      "\u001b[46m\u001b[1m 45°C [Celsius] is 113.0°F [Fahrenheit]\n"
     ]
    }
   ],
   "source": [
    "# Converting Celsius into Fahrenheit\n",
    "def cel_fah():\n",
    "    try:\n",
    "        cel = int(input(\" Write the Value in Celsius \"))\n",
    "        far = (cel*(9/5))+32\n",
    "        return(Back.CYAN+f\"\\033[1m {cel}\\N{DEGREE SIGN}C [Celsius] is {far}\\N{DEGREE SIGN}F [Fahrenheit]\")\n",
    "    except:\n",
    "        return(Fore.RED +\"\\033[1mWrite value in Integers ...!\")\n",
    "\n",
    "\n",
    "print(cel_fah())\n"
   ]
  },
  {
   "cell_type": "markdown",
   "id": "b53335e3",
   "metadata": {},
   "source": [
    "## Task 3"
   ]
  },
  {
   "cell_type": "code",
   "execution_count": 103,
   "id": "f27ccc60",
   "metadata": {
    "scrolled": false
   },
   "outputs": [
    {
     "name": "stdout",
     "output_type": "stream",
     "text": [
      "    January 2022\n",
      "Mo Tu We Th Fr Sa Su\n",
      "                1  2\n",
      " 3  4  5  6  7  8  9\n",
      "10 11 12 13 14 15 16\n",
      "17 18 19 20 21 22 23\n",
      "24 25 26 27 28 29 30\n",
      "31\n",
      "\n",
      "                                  2022\n",
      "\n",
      "      January                   February                   March\n",
      "Mo Tu We Th Fr Sa Su      Mo Tu We Th Fr Sa Su      Mo Tu We Th Fr Sa Su\n",
      "                1  2          1  2  3  4  5  6          1  2  3  4  5  6\n",
      " 3  4  5  6  7  8  9       7  8  9 10 11 12 13       7  8  9 10 11 12 13\n",
      "10 11 12 13 14 15 16      14 15 16 17 18 19 20      14 15 16 17 18 19 20\n",
      "17 18 19 20 21 22 23      21 22 23 24 25 26 27      21 22 23 24 25 26 27\n",
      "24 25 26 27 28 29 30      28                        28 29 30 31\n",
      "31\n",
      "\n",
      "       April                      May                       June\n",
      "Mo Tu We Th Fr Sa Su      Mo Tu We Th Fr Sa Su      Mo Tu We Th Fr Sa Su\n",
      "             1  2  3                         1             1  2  3  4  5\n",
      " 4  5  6  7  8  9 10       2  3  4  5  6  7  8       6  7  8  9 10 11 12\n",
      "11 12 13 14 15 16 17       9 10 11 12 13 14 15      13 14 15 16 17 18 19\n",
      "18 19 20 21 22 23 24      16 17 18 19 20 21 22      20 21 22 23 24 25 26\n",
      "25 26 27 28 29 30         23 24 25 26 27 28 29      27 28 29 30\n",
      "                          30 31\n",
      "\n",
      "        July                     August                  September\n",
      "Mo Tu We Th Fr Sa Su      Mo Tu We Th Fr Sa Su      Mo Tu We Th Fr Sa Su\n",
      "             1  2  3       1  2  3  4  5  6  7                1  2  3  4\n",
      " 4  5  6  7  8  9 10       8  9 10 11 12 13 14       5  6  7  8  9 10 11\n",
      "11 12 13 14 15 16 17      15 16 17 18 19 20 21      12 13 14 15 16 17 18\n",
      "18 19 20 21 22 23 24      22 23 24 25 26 27 28      19 20 21 22 23 24 25\n",
      "25 26 27 28 29 30 31      29 30 31                  26 27 28 29 30\n",
      "\n",
      "      October                   November                  December\n",
      "Mo Tu We Th Fr Sa Su      Mo Tu We Th Fr Sa Su      Mo Tu We Th Fr Sa Su\n",
      "                1  2          1  2  3  4  5  6                1  2  3  4\n",
      " 3  4  5  6  7  8  9       7  8  9 10 11 12 13       5  6  7  8  9 10 11\n",
      "10 11 12 13 14 15 16      14 15 16 17 18 19 20      12 13 14 15 16 17 18\n",
      "17 18 19 20 21 22 23      21 22 23 24 25 26 27      19 20 21 22 23 24 25\n",
      "24 25 26 27 28 29 30      28 29 30                  26 27 28 29 30 31\n",
      "31\n",
      "\n"
     ]
    }
   ],
   "source": [
    "# Displaying calender\n",
    "yy = 2022\n",
    "mm = 1\n",
    "\n",
    "# display the calendar\n",
    "print(calendar.month(yy, mm))\n",
    "yy = 2022\n",
    "\n",
    "# display the calendar\n",
    "print(calendar.calendar(yy))\n"
   ]
  },
  {
   "cell_type": "markdown",
   "id": "5582a4c6",
   "metadata": {},
   "source": [
    "## Task 4"
   ]
  },
  {
   "cell_type": "code",
   "execution_count": 112,
   "id": "0cf2a940",
   "metadata": {},
   "outputs": [
    {
     "name": "stdout",
     "output_type": "stream",
     "text": [
      "The solution of following above equation is \n",
      "(-1+0j)\n",
      "(-0.3333333333333333+0j)\n"
     ]
    }
   ],
   "source": [
    "# Solve quadratic equation\n",
    "# y = ax**2+by+c\n",
    "\n",
    "a = 3\n",
    "b = 4\n",
    "c = 1\n",
    "\n",
    "# calculate  the discriminant\n",
    "discrim = (b**2) - (4 * a*c)\n",
    "\n",
    "a1 = (-b-cmath.sqrt(discrim))/(2 * a)\n",
    "a2 = (-b + cmath.sqrt(discrim))/(2 * a)\n",
    "\n",
    "print(\"The solution of following above equation is \")\n",
    "print(a1)\n",
    "print(a2)\n"
   ]
  },
  {
   "cell_type": "markdown",
   "id": "083c4fd3",
   "metadata": {},
   "source": [
    "## Task 5"
   ]
  },
  {
   "cell_type": "code",
   "execution_count": 71,
   "id": "4919d8bd",
   "metadata": {},
   "outputs": [
    {
     "name": "stdout",
     "output_type": "stream",
     "text": [
      "-------------------------]\u001b[1m Method 1 \u001b[0m[-----------------------------\n",
      "\n",
      "Before swapping \n",
      "a = 5\n",
      "b = 6\n",
      "After swapping \n",
      "a = 6\n",
      "b = 5\n",
      "-------------------------]\u001b[1m Method 2 \u001b[0m[-----------------------------\n",
      "\n",
      "Before swapping \n",
      "a = 5\n",
      "b = 6\n",
      "After swapping \n",
      "a = 6\n",
      "b = 5\n"
     ]
    }
   ],
   "source": [
    "# Swapping Two varible without temp varible\n",
    "print(\n",
    "    \"-------------------------]\\033[1m Method 1 \\033[0m[-----------------------------\\n\")\n",
    "# method 1\n",
    "a = 5\n",
    "b = 6\n",
    "print(f\"Before swapping \\na = {a}\\nb = {b}\")\n",
    "\n",
    "a = a+b\n",
    "b = a-b\n",
    "a = a-b\n",
    "print(f\"After swapping \\na = {a}\\nb = {b}\")\n",
    "\n",
    "print(\n",
    "    \"-------------------------]\\033[1m Method 2 \\033[0m[-----------------------------\\n\")\n",
    "\n",
    "a = 5\n",
    "b = 6\n",
    "print(f\"Before swapping \\na = {a}\\nb = {b}\")\n",
    "\n",
    "a, b = b, a\n",
    "print(f\"After swapping \\na = {a}\\nb = {b}\")\n"
   ]
  },
  {
   "cell_type": "code",
   "execution_count": 75,
   "id": "ffbb5a61",
   "metadata": {},
   "outputs": [
    {
     "name": "stdout",
     "output_type": "stream",
     "text": [
      "\u001b[1mThank you so much i-Neuron ...!\n"
     ]
    }
   ],
   "source": [
    "print(\"\\033[1mThank you so much i-Neuron ...!\")\n"
   ]
  }
 ],
 "metadata": {
  "kernelspec": {
   "display_name": "Python 3 (ipykernel)",
   "language": "python",
   "name": "python3"
  },
  "language_info": {
   "codemirror_mode": {
    "name": "ipython",
    "version": 3
   },
   "file_extension": ".py",
   "mimetype": "text/x-python",
   "name": "python",
   "nbconvert_exporter": "python",
   "pygments_lexer": "ipython3",
   "version": "3.9.6"
  }
 },
 "nbformat": 4,
 "nbformat_minor": 5
}
