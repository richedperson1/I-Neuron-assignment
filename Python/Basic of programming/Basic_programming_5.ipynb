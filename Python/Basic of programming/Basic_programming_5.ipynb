{
 "cells": [
  {
   "cell_type": "markdown",
   "id": "d7243dfe",
   "metadata": {},
   "source": [
    "# Task 1"
   ]
  },
  {
   "cell_type": "code",
   "execution_count": 1,
   "id": "b8064f2f",
   "metadata": {},
   "outputs": [
    {
     "name": "stdout",
     "output_type": "stream",
     "text": [
      "Give First number  : 5\n",
      "Give Second number : 6\n",
      "LCM of 5,6 is 30 \n"
     ]
    }
   ],
   "source": [
    "# calculting LCM of Two number \n",
    "def compute_lcm(x, y):\n",
    "    try:\n",
    "        x ,y= int(x),int(y)\n",
    "        high = max(x,y)\n",
    "        while(True):\n",
    "            if((high % x == 0) and (high % y == 0)):\n",
    "                lcm = high\n",
    "                break\n",
    "            high += 1\n",
    "        return lcm\n",
    "    except Exception as e:\n",
    "        return(e)\n",
    "        \n",
    "\n",
    "x = input(\"Give First number  : \")\n",
    "y = input(\"Give Second number : \")\n",
    "print(f\"LCM of {x},{y} is {compute_lcm(x,y)} \")"
   ]
  },
  {
   "cell_type": "markdown",
   "id": "7f8a14a5",
   "metadata": {},
   "source": [
    "# Task 2 "
   ]
  },
  {
   "cell_type": "code",
   "execution_count": 2,
   "id": "3621539c",
   "metadata": {},
   "outputs": [
    {
     "name": "stdout",
     "output_type": "stream",
     "text": [
      "Enter first number  : 12\n",
      "Enter second number : 16\n",
      "HCF of 12 and 16 is :  4\n"
     ]
    }
   ],
   "source": [
    "def hcf(x, y):  \n",
    "    try:\n",
    "        x ,y= int(x),int(y)\n",
    "        small = max(x,y)\n",
    "        for i in range(1,small + 1):  \n",
    "            if((x % i == 0) and (y % i == 0)):  \n",
    "                hcf = i  \n",
    "        return hcf  \n",
    "    except Exception as e:\n",
    "        return(e)\n",
    "    \n",
    "x = input(\"Enter first number  : \")  \n",
    "y = input(\"Enter second number : \")\n",
    "print(f\"HCF of {x} and {y} is : \",hcf(x,y))"
   ]
  },
  {
   "cell_type": "markdown",
   "id": "23bebda1",
   "metadata": {},
   "source": [
    "# Task 3"
   ]
  },
  {
   "cell_type": "code",
   "execution_count": 3,
   "id": "5a179dcd",
   "metadata": {},
   "outputs": [
    {
     "name": "stdout",
     "output_type": "stream",
     "text": [
      "Enter Number : 25\n",
      "25 in Octal = 0o31\n",
      "25 in Binary = 011001\n",
      "25 in Hexadecimal is 00x19\n"
     ]
    }
   ],
   "source": [
    "# Decimal to Binary, Octal and Hexadecimal\n",
    "def convert(num):\n",
    "    try:\n",
    "        num = int(num)\n",
    "        return f\"{num} in Octal = {oct(num)}\\n{num} in Binary = 0{bin(num)[2:]}\\n{num} in Hexadecimal is 0{hex(num)}\"\n",
    "    except Exception as e:\n",
    "        return e\n",
    "    \n",
    "num = input(\"Enter Number : \")\n",
    "print(convert(num))"
   ]
  },
  {
   "cell_type": "markdown",
   "id": "fd2ad423",
   "metadata": {},
   "source": [
    "# Task 4"
   ]
  },
  {
   "cell_type": "code",
   "execution_count": 4,
   "id": "5d365453",
   "metadata": {},
   "outputs": [
    {
     "name": "stdout",
     "output_type": "stream",
     "text": [
      "Enter one char value : j\n",
      "ASCII value of j is 106\n"
     ]
    }
   ],
   "source": [
    "# Python Program To Find ASCII value of a character\n",
    "def convert_into_ASCII(num):\n",
    "    try:\n",
    "        return ord(num)\n",
    "    except Exception as e:\n",
    "        return e\n",
    "    \n",
    "num = input(\"Enter one char value : \")\n",
    "print(f\"ASCII value of {num} is {convert_into_ASCII(num)}\")"
   ]
  },
  {
   "cell_type": "markdown",
   "id": "2827c6ed",
   "metadata": {},
   "source": [
    "# Task 5"
   ]
  },
  {
   "cell_type": "code",
   "execution_count": 8,
   "id": "6ac054e9",
   "metadata": {},
   "outputs": [
    {
     "name": "stdout",
     "output_type": "stream",
     "text": [
      "Select operation.\n",
      "1. Addition\n",
      "2. Subtraction\n",
      "3. Multiplication\n",
      "4. Division\n",
      "Enter selected operation : 2\n",
      "\n",
      "\n",
      "Please enter first value : 5\n",
      "Please enter second value : 6\n",
      "The Subtraction of 5.0 , 6.0 = -1.0\n"
     ]
    }
   ],
   "source": [
    "# Make a Simple Calculator with 4 basic mathematical operations\n",
    "\n",
    "print(\"Select operation.\")\n",
    "print(\"1. Addition\")\n",
    "print(\"2. Subtraction\")\n",
    "print(\"3. Multiplication\")\n",
    "print(\"4. Division\")\n",
    "\n",
    "try:\n",
    "    choice = input(\"Enter selected operation : \")\n",
    "except:\n",
    "    print(\"Please enter right value\")\n",
    "    \n",
    "print('\\n')\n",
    "try:\n",
    "    def calculator(choice):\n",
    "        try:\n",
    "            choice = int(choice)\n",
    "            x = float(input(\"Please enter first value : \"))\n",
    "            y = float(input(\"Please enter second value : \"))\n",
    "            if choice==1:\n",
    "                return(f\"The addition of {x} , {y} = {x+y}\")\n",
    "            elif choice==2:\n",
    "                return(f\"The Subtraction of {x} , {y} = {x-y}\")\n",
    "            elif choice==3:\n",
    "                return (f\"The Multiplication of {x} , {y} = {x*y}\")\n",
    "            elif choice==4:\n",
    "                return (f\"The Division of {x} , {y} = {round(x/y,4)}\")\n",
    "            else:\n",
    "                return \"Please select right operation number \"\n",
    "        except Exception as e:\n",
    "            return e\n",
    "\n",
    "    print(calculator(choice))\n",
    "except Exception as e:\n",
    "    print(e)"
   ]
  },
  {
   "cell_type": "code",
   "execution_count": 51,
   "id": "07879b36",
   "metadata": {},
   "outputs": [
    {
     "name": "stdout",
     "output_type": "stream",
     "text": [
      "❤️ Thank you i-Neuron Team ...! ❤️\n"
     ]
    }
   ],
   "source": [
    "print(\"\\u2764\\ufe0f Thank you i-Neuron Team ...! \\u2764\\ufe0f\")"
   ]
  }
 ],
 "metadata": {
  "kernelspec": {
   "display_name": "Python 3 (ipykernel)",
   "language": "python",
   "name": "python3"
  },
  "language_info": {
   "codemirror_mode": {
    "name": "ipython",
    "version": 3
   },
   "file_extension": ".py",
   "mimetype": "text/x-python",
   "name": "python",
   "nbconvert_exporter": "python",
   "pygments_lexer": "ipython3",
   "version": "3.9.6"
  }
 },
 "nbformat": 4,
 "nbformat_minor": 5
}
