{
 "cells": [
  {
   "cell_type": "markdown",
   "id": "41eb2904",
   "metadata": {},
   "source": [
    "# Task 1 "
   ]
  },
  {
   "cell_type": "code",
   "execution_count": 110,
   "id": "77895425",
   "metadata": {},
   "outputs": [
    {
     "name": "stdout",
     "output_type": "stream",
     "text": [
      "First Matrix :\n",
      "[1, 2, 3]\n",
      "[5, 6, 7]\n",
      "[8, 15, 16]\n",
      "\n",
      "Second Matrix :\n",
      "[5, 8, 6]\n",
      "[17, 18, 23]\n",
      "[25, 69, 89]\n",
      " \n",
      "Addition of two matix is : \n",
      "[ [6, 10, 9] \n",
      " [22, 24, 30] \n",
      " [33, 84, 105] ]"
     ]
    }
   ],
   "source": [
    "# Python Program to Add Two Matrices\n",
    "def Matrices_addtion(arr,brr,row1,col1):\n",
    "    for i in range(row1):\n",
    "        local = [0]*col1\n",
    "        for j in range(col1):\n",
    "            local[j] = arr[i][j]+brr[i][j]\n",
    "        result.append(local)    \n",
    "    return result\n",
    "\n",
    "arr = [[1,2,3],\n",
    "       [5,6,7],\n",
    "       [8,15,16]]\n",
    "\n",
    "brr = [[5 , 8, 6],\n",
    "       [17,18,23],\n",
    "       [25,69,89]]\n",
    "\n",
    "row1 = len(arr)\n",
    "col1 = len(arr[0])\n",
    "\n",
    "row2 = int(len(brr))\n",
    "col2 = len(brr[0])\n",
    "\n",
    "result = []\n",
    "try:\n",
    "    if row1==row2 and col1==col2:\n",
    "        result = Matrices_addtion(arr,brr,row1,col1)\n",
    "        print(\"First Matrix :\")\n",
    "        for lst in range(len(arr)):\n",
    "            print(f'{arr[lst]}')\n",
    "        print()\n",
    "        print(\"Second Matrix :\")\n",
    "        for lst in range(len(arr)):\n",
    "            print(f'{brr[lst]}')\n",
    "        print(\" \")\n",
    "        print(\"Addition of two matix is : \")\n",
    "\n",
    "        print('[',end='')\n",
    "        result_len = len(result)\n",
    "        for lst in range(result_len):\n",
    "            if lst !=result_len-1:\n",
    "                print(f' {result[lst]} ')\n",
    "            else: \n",
    "                print(f\" {result[lst]}\",end = ' ]')\n",
    "\n",
    "    else:\n",
    "        print(\"Please select proper matrix it's can'nt be added as because M1 x N1 != M2 x N2\")\n",
    "            \n",
    "except Exception as e:\n",
    "    print(e)"
   ]
  },
  {
   "cell_type": "markdown",
   "id": "67425b12",
   "metadata": {},
   "source": [
    "# Task 2 "
   ]
  },
  {
   "cell_type": "markdown",
   "id": "39cea1c9",
   "metadata": {},
   "source": [
    "# Method 1 "
   ]
  },
  {
   "cell_type": "code",
   "execution_count": 66,
   "id": "f57e3826",
   "metadata": {},
   "outputs": [
    {
     "name": "stdout",
     "output_type": "stream",
     "text": [
      "First Matrix :\n",
      "[2, 7, 3]\n",
      "[4, 5, 6]\n",
      "[7, 8, 9]\n",
      "\n",
      "Second Matrix :\n",
      "[5, 8, 1, 2]\n",
      "[6, 7, 3, 0]\n",
      "[4, 5, 9, 1]\n",
      " \n",
      "Multiplication of two matix is : \n",
      "[64, 80, 50, 7]\n",
      "[74, 97, 73, 14]\n",
      "[119, 157, 112, 23]\n"
     ]
    }
   ],
   "source": [
    "# Python Program to Multiply Two Matrices\n",
    "arr = [[2, 7, 3],\n",
    "       [4, 5, 6],\n",
    "       [7, 8, 9]]\n",
    "\n",
    "\n",
    "brr = [[5, 8, 1, 2],\n",
    "       [6, 7, 3, 0],\n",
    "       [4, 5, 9, 1]]\n",
    "\n",
    "result = [[0, 0, 0, 0],\n",
    "          [0, 0, 0, 0],\n",
    "          [0, 0, 0, 0]]\n",
    "\n",
    "\n",
    "def matrix_multiplication(A, B, result):\n",
    "    try:\n",
    "        for i in range(len(A)):\n",
    "            for j in range(len(B[0])):\n",
    "                for k in range(len(B)):\n",
    "                    result[i][j] += A[i][k] * B[k][j]\n",
    "        return result\n",
    "    except Exception as e:\n",
    "        return e\n",
    "\n",
    "\n",
    "try:\n",
    "    print(\"First Matrix :\")\n",
    "    for lst in range(len(arr)):\n",
    "        print(f'{arr[lst]}')\n",
    "    print()\n",
    "    print(\"Second Matrix :\")\n",
    "    for lst in range(len(arr)):\n",
    "        print(f'{brr[lst]}')\n",
    "    print(\" \")\n",
    "    print(\"Multiplication of two matix is : \")\n",
    "\n",
    "    result = matrix_multiplication(arr, brr, result)\n",
    "    result_len = len(result)\n",
    "    for lst in range(result_len):\n",
    "        print(f'{result[lst]}')\n",
    "\n",
    "except Exception as e:\n",
    "    print(e)\n"
   ]
  },
  {
   "cell_type": "markdown",
   "id": "f6e3df97",
   "metadata": {},
   "source": [
    "# Method 2 "
   ]
  },
  {
   "cell_type": "code",
   "execution_count": 67,
   "id": "38b9b469",
   "metadata": {},
   "outputs": [
    {
     "name": "stdout",
     "output_type": "stream",
     "text": [
      "First Matrix :\n",
      "[2, 7, 3]\n",
      "[4, 5, 6]\n",
      "[7, 8, 9]\n",
      "\n",
      "Second Matrix :\n",
      "[5, 8, 1, 2]\n",
      "[6, 7, 3, 0]\n",
      "[4, 5, 9, 1]\n",
      " \n",
      "Multiplication of two matix is : \n",
      "[64 80 50  7]\n",
      "[74 97 73 14]\n",
      "[119 157 112  23]\n"
     ]
    }
   ],
   "source": [
    "# Python Program to Multiply Two Matrices\n",
    "def matrix_multiplication_2(arr,brr):\n",
    "    try:\n",
    "        return np.dot(arr,brr)\n",
    "    except Exception as e:\n",
    "        return e\n",
    "    \n",
    "\n",
    "try:\n",
    "    print(\"First Matrix :\")\n",
    "    for lst in range(len(arr)):\n",
    "        print(f'{arr[lst]}')\n",
    "    print()\n",
    "    print(\"Second Matrix :\")\n",
    "    for lst in range(len(arr)):\n",
    "        print(f'{brr[lst]}')\n",
    "    print(\" \")\n",
    "    print(\"Multiplication of two matix is : \")\n",
    "\n",
    "    result = matrix_multiplication_2(arr, brr)\n",
    "    result_len = len(result)\n",
    "    for lst in range(result_len):\n",
    "        print(f'{result[lst]}')\n",
    "\n",
    "except Exception as e:\n",
    "    print(e)"
   ]
  },
  {
   "cell_type": "markdown",
   "id": "4ed44e1b",
   "metadata": {},
   "source": [
    "# Task 3 "
   ]
  },
  {
   "cell_type": "code",
   "execution_count": 83,
   "id": "c825276d",
   "metadata": {},
   "outputs": [
    {
     "name": "stdout",
     "output_type": "stream",
     "text": [
      "Matric : \n",
      "    [12, 7] \n",
      "    [4, 5] \n",
      "    [3, 8] \n",
      " \n",
      "Matrix after Transpose : \n",
      "    [12, 4, 3] \n",
      "    [7, 5, 8] \n",
      " \n"
     ]
    }
   ],
   "source": [
    "# Python Program to Transpose a Matrix\n",
    "    \n",
    "arr = [[12,7],\n",
    "    [4 ,5],\n",
    "    [3 ,8]]\n",
    "\n",
    "def transpoce(arr):\n",
    "    try:\n",
    "        result =  []\n",
    "        for i in range(len(arr[0])):\n",
    "            local = [0]*len(arr)\n",
    "            for j in range(len(arr)):   \n",
    "                local[j] = arr[j][i]\n",
    "            result.append(local)\n",
    "        return result\n",
    "    except Exception as e:\n",
    "        return e\n",
    "    \n",
    "try: \n",
    "    print(\"Matric : \")\n",
    "    for lst in arr:\n",
    "        print(f'    {lst} ')\n",
    "    print(' ')\n",
    "    print(\"Matrix after Transpose : \" )\n",
    "    result = transpoce(arr)\n",
    "    for lst in result:\n",
    "        print(f'    {lst} ')\n",
    "    print(' ')\n",
    "    \n",
    "except Exception as e:\n",
    "    print(e)"
   ]
  },
  {
   "cell_type": "markdown",
   "id": "b5de5c3b",
   "metadata": {},
   "source": [
    "# Task 4 "
   ]
  },
  {
   "cell_type": "code",
   "execution_count": 109,
   "id": "a1452984",
   "metadata": {},
   "outputs": [
    {
     "name": "stdout",
     "output_type": "stream",
     "text": [
      "Enter string which need to sort : jaiswal\n",
      "The Normal string : \u001b[1mjaiswal\u001b[0m and \n",
      "Sorted string : \u001b[1maaijlsw \n"
     ]
    }
   ],
   "source": [
    "# Python Program to Sort Words in Alphabetic Order\n",
    "def string_sort(string):\n",
    "    try:\n",
    "        a = sorted(string)\n",
    "        a = ''.join(a)\n",
    "        return a\n",
    "    except Exception as e:\n",
    "        return e\n",
    "    \n",
    "try:\n",
    "    string = input(\"Enter string which need to sort : \")\n",
    "    print(f\"The Normal string : \\033[1m{string}\\033[0m and \\nSorted string : \\033[1m{string_sort(string)} \")\n",
    "    \n",
    "except Exception as e:\n",
    "    print(e)"
   ]
  },
  {
   "cell_type": "markdown",
   "id": "197ea461",
   "metadata": {},
   "source": [
    "# Task 5"
   ]
  },
  {
   "cell_type": "code",
   "execution_count": 106,
   "id": "b713faa3",
   "metadata": {},
   "outputs": [
    {
     "name": "stdout",
     "output_type": "stream",
     "text": [
      "Enter Name to remove Punctuation : Alway? help& each_ other\n",
      "--------------------------------------------------\n",
      "The Normal string : \u001b[1mAlway? help& each_ other\u001b[0m and \n",
      "Punctuation remove string : \u001b[1mAlway help each other \n"
     ]
    }
   ],
   "source": [
    "# Python Program to Remove Punctuation From a String\n",
    "import re\n",
    "def remove_punch(string):\n",
    "    try:\n",
    "        patten = '[a-zA-Z1-8 ]'\n",
    "        form = ''\n",
    "        for word in string:\n",
    "            if re.search(patten,word):\n",
    "                form+=word\n",
    "        return form\n",
    "    except Exception as e:\n",
    "        return e      \n",
    "    \n",
    "try:\n",
    "    string = input(\"Enter Name to remove Punctuation : \")\n",
    "    print('-'*50)\n",
    "    print(f\"The Normal string : \\033[1m{string}\\033[0m and \\nPunctuation remove string : \\033[1m{remove_punch(string)} \")\n",
    "    \n",
    "except Exception as e:\n",
    "    print(e)"
   ]
  },
  {
   "cell_type": "code",
   "execution_count": 97,
   "id": "231e76cd",
   "metadata": {},
   "outputs": [
    {
     "name": "stdout",
     "output_type": "stream",
     "text": [
      "❤️ Thank you i-Neuron Team ...! ❤️\n"
     ]
    }
   ],
   "source": [
    "print(\"\\u2764\\ufe0f Thank you i-Neuron Team ...! \\u2764\\ufe0f\")"
   ]
  }
 ],
 "metadata": {
  "kernelspec": {
   "display_name": "Python 3 (ipykernel)",
   "language": "python",
   "name": "python3"
  },
  "language_info": {
   "codemirror_mode": {
    "name": "ipython",
    "version": 3
   },
   "file_extension": ".py",
   "mimetype": "text/x-python",
   "name": "python",
   "nbconvert_exporter": "python",
   "pygments_lexer": "ipython3",
   "version": "3.9.6"
  }
 },
 "nbformat": 4,
 "nbformat_minor": 5
}
