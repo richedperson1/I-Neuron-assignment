{
 "cells": [
  {
   "cell_type": "markdown",
   "id": "1ad3ff0c",
   "metadata": {},
   "source": [
    "# Library Importing"
   ]
  },
  {
   "cell_type": "code",
   "execution_count": 1,
   "id": "5dbe4bab",
   "metadata": {},
   "outputs": [],
   "source": [
    "import random"
   ]
  },
  {
   "cell_type": "markdown",
   "id": "f6ae2ea7",
   "metadata": {},
   "source": [
    "## Task 1"
   ]
  },
  {
   "cell_type": "code",
   "execution_count": 2,
   "id": "715255b8",
   "metadata": {},
   "outputs": [
    {
     "name": "stdout",
     "output_type": "stream",
     "text": [
      "Hello Python\n"
     ]
    }
   ],
   "source": [
    "# Printing Hello Python\n",
    "\n",
    "print(\"Hello Python\")"
   ]
  },
  {
   "cell_type": "markdown",
   "id": "2c14ea95",
   "metadata": {},
   "source": [
    "## Task 2"
   ]
  },
  {
   "cell_type": "code",
   "execution_count": 5,
   "id": "a0133ff0",
   "metadata": {},
   "outputs": [
    {
     "name": "stdout",
     "output_type": "stream",
     "text": [
      "The Addition of 5 and 6 = 11 , and division = 0.8333333333333334\n"
     ]
    }
   ],
   "source": [
    "# Addition and division function are following {arithmetical operations}\n",
    "\n",
    "def addition_and_div(a, b):\n",
    "    add = a+b\n",
    "    div = a/b\n",
    "    return(f\"The Addition of {a} and {b} = {add} , and division = {div}\")\n",
    "\n",
    "print(addition_and_div(5,6))"
   ]
  },
  {
   "cell_type": "markdown",
   "id": "6d94972c",
   "metadata": {},
   "source": [
    "## Task 3"
   ]
  },
  {
   "cell_type": "code",
   "execution_count": 6,
   "id": "a4c52428",
   "metadata": {},
   "outputs": [
    {
     "name": "stdout",
     "output_type": "stream",
     "text": [
      "The Area of triangle is 21.0 for base 6 and height is 7\n",
      "\n"
     ]
    }
   ],
   "source": [
    "# Area of triangle function\n",
    "def area_triange(base, height):\n",
    "    area = (base*height)/2\n",
    "    return(f\"The Area of triangle is {area} for base {base} and height is {height}\\n\")\n",
    "\n",
    "\n",
    "print(area_triange(6, 7))"
   ]
  },
  {
   "cell_type": "markdown",
   "id": "f3f27f9c",
   "metadata": {},
   "source": [
    "## Task 4"
   ]
  },
  {
   "cell_type": "code",
   "execution_count": 8,
   "id": "5a31e622",
   "metadata": {},
   "outputs": [
    {
     "name": "stdout",
     "output_type": "stream",
     "text": [
      "Before swapping \n",
      "a = 5 \n",
      "b = 6\n",
      "After swapping \n",
      "a = 6\n",
      "b = 5\n",
      "Swapping is to be done ...!\n"
     ]
    }
   ],
   "source": [
    "# swapping two variable\n",
    "a = 5\n",
    "b = 6\n",
    "print(f\"Before swapping \\na = {a} \\nb = {b}\")\n",
    "a, b = b, a\n",
    "print(f\"After swapping \\na = {a}\\nb = {b}\")\n",
    "print(\"Swapping is to be done ...!\")"
   ]
  },
  {
   "cell_type": "markdown",
   "id": "c184798c",
   "metadata": {},
   "source": [
    "## Task 5"
   ]
  },
  {
   "cell_type": "code",
   "execution_count": 9,
   "id": "df3116da",
   "metadata": {},
   "outputs": [
    {
     "name": "stdout",
     "output_type": "stream",
     "text": [
      "Python Generate random number for you :)  0.2858245582908451\n",
      "\n",
      "Thank You i-Neuron :)\n",
      "\n"
     ]
    }
   ],
   "source": [
    "# Generate random number\n",
    "print(f\"Python Generate random number for you :) \", random.random())\n",
    "print(\"\\nThank You i-Neuron :)\\n\")"
   ]
  }
 ],
 "metadata": {
  "kernelspec": {
   "display_name": "Python 3 (ipykernel)",
   "language": "python",
   "name": "python3"
  },
  "language_info": {
   "codemirror_mode": {
    "name": "ipython",
    "version": 3
   },
   "file_extension": ".py",
   "mimetype": "text/x-python",
   "name": "python",
   "nbconvert_exporter": "python",
   "pygments_lexer": "ipython3",
   "version": "3.9.6"
  }
 },
 "nbformat": 4,
 "nbformat_minor": 5
}
