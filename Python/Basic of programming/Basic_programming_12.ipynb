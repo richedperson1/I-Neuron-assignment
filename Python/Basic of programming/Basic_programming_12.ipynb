{
 "cells": [
  {
   "cell_type": "markdown",
   "id": "9ed1d187",
   "metadata": {},
   "source": [
    "## Write a Python program to Extract Unique values dictionary values?"
   ]
  },
  {
   "cell_type": "code",
   "execution_count": 1,
   "id": "7c561a6e",
   "metadata": {},
   "outputs": [
    {
     "name": "stdout",
     "output_type": "stream",
     "text": [
      "The final output are  : {1, 2, 5, 6, 7, 8, 10, 11, 12}\n"
     ]
    }
   ],
   "source": [
    "test_dict = {'ineron' : [5, 6, 7, 8],\n",
    "             'team' : [10, 11, 7, 5],\n",
    "             'is' : [6, 12, 10, 8],\n",
    "             'best' : [1, 2, 5]}\n",
    "\n",
    "try:\n",
    "    values = set()\n",
    "    for data in test_dict.values():\n",
    "        for val in data:\n",
    "            values.add(val)\n",
    "except Exception as e:\n",
    "    print(e)\n",
    "    print(\"Not having proper data\")\n",
    "\n",
    "print(f\"The final output are  : {values}\")"
   ]
  },
  {
   "cell_type": "markdown",
   "id": "cdbea41c",
   "metadata": {},
   "source": [
    "## Write a Python program to find the sum of all items in a dictionary?"
   ]
  },
  {
   "cell_type": "code",
   "execution_count": 2,
   "id": "182017d4",
   "metadata": {},
   "outputs": [
    {
     "name": "stdout",
     "output_type": "stream",
     "text": [
      "The total sum is : 600\n"
     ]
    }
   ],
   "source": [
    "dist = {'book': 100, 'pen':200, 'pencil':300}\n",
    "total = 0\n",
    "try:\n",
    "    for i in dist.values():\n",
    "        total+=i\n",
    "except Exception as e:\n",
    "    print(e)\n",
    "    \n",
    "print(f\"The total sum is : {total}\")"
   ]
  },
  {
   "cell_type": "markdown",
   "id": "0fcfce81",
   "metadata": {},
   "source": [
    "## Python program to Merging two Dictionaries?"
   ]
  },
  {
   "cell_type": "code",
   "execution_count": 4,
   "id": "ff9dfd57",
   "metadata": {},
   "outputs": [
    {
     "data": {
      "text/plain": [
       "{'company': 'EY', 'data': 5200, 'salary': 3246546500}"
      ]
     },
     "execution_count": 4,
     "metadata": {},
     "output_type": "execute_result"
    }
   ],
   "source": [
    "dist1 = {'book': 100, 'pen':200, 'pencil':300}\n",
    "dist2 = {'company': 'EY', 'data':5200, 'salary':3246546500}\n",
    "dist1.update(dist2)\n",
    "dist2"
   ]
  },
  {
   "cell_type": "markdown",
   "id": "212cdff1",
   "metadata": {},
   "source": [
    "## Write a Python program to convert key-values list to flat dictionary?"
   ]
  },
  {
   "cell_type": "code",
   "execution_count": 9,
   "id": "e2a1c0e9",
   "metadata": {},
   "outputs": [
    {
     "name": "stdout",
     "output_type": "stream",
     "text": [
      "{'Jan': 1, 'Feb': 2, 'March': 3, 'Apr': 4, 'May': 5, 'June': 6}\n"
     ]
    }
   ],
   "source": [
    "dist = {'month_num':[1, 2, 3, 4, 5, 6],'name_of_month':['Jan', 'Feb', 'March', 'Apr', 'May', 'June']}\n",
    "\n",
    "result = dict(zip(dist['name_of_month'], dist['month_num']))\n",
    "# name_of_month\n",
    "print(result)"
   ]
  },
  {
   "cell_type": "markdown",
   "id": "f61204bc",
   "metadata": {},
   "source": [
    "## Write a Python program to insertion at the beginning in OrderedDict?"
   ]
  },
  {
   "cell_type": "code",
   "execution_count": 10,
   "id": "b76d00d5",
   "metadata": {},
   "outputs": [],
   "source": [
    "from collections import OrderedDict"
   ]
  },
  {
   "cell_type": "code",
   "execution_count": 51,
   "id": "66e416ed",
   "metadata": {},
   "outputs": [
    {
     "name": "stdout",
     "output_type": "stream",
     "text": [
      "Inserting Hulk at End\n",
      "OrderedDict([('iron_man', 2008), ('iron_man_2', 2010), ('iron_man_3', 2013), ('Avengers_Endgame', 2019), ('Hulk', 2003)])\n",
      "\n",
      "Inserting Hulk at Start\n",
      "OrderedDict([('Hulk', 2003), ('iron_man', 2008), ('iron_man_2', 2010), ('iron_man_3', 2013), ('Avengers_Endgame', 2019)])\n"
     ]
    }
   ],
   "source": [
    "order = OrderedDict({'iron_man': 2008,'iron_man_2': 2010,'iron_man_3': 2013,'Avengers_Endgame': 2019})\n",
    "\n",
    "order['Hulk'] = 2003\n",
    "print(\"Inserting Hulk at End\")\n",
    "print(order)\n",
    "print()\n",
    "print(\"Inserting Hulk at Start\")\n",
    "order.move_to_end('Hulk', last = False)\n",
    "print(order)"
   ]
  },
  {
   "cell_type": "markdown",
   "id": "b00fb8ea",
   "metadata": {},
   "source": [
    "## Python program to check order of character in string using OrderedDict()?"
   ]
  },
  {
   "cell_type": "code",
   "execution_count": 79,
   "id": "bf83f8c6",
   "metadata": {},
   "outputs": [
    {
     "name": "stdout",
     "output_type": "stream",
     "text": [
      "Order of character in string present : True\n"
     ]
    }
   ],
   "source": [
    "st = \"engineer\"\n",
    "patten = 'en'\n",
    "def searching_patten(patten,st):\n",
    "    order = OrderedDict()\n",
    "    order = order.fromkeys(st)\n",
    "\n",
    "    len_fun = 0\n",
    "    for i in order:\n",
    "        if i==patten[len_fun]:\n",
    "            len_fun+=1\n",
    "        if len_fun==len(patten):\n",
    "            return True\n",
    "    else:\n",
    "        return False\n",
    "\n",
    "    \n",
    "\n",
    "print(f\"Order of character in string present : {searching_patten(patten,st)}\")"
   ]
  },
  {
   "cell_type": "markdown",
   "id": "3e54a303",
   "metadata": {},
   "source": [
    "## Write a Python program to sort Python Dictionaries by Key or Value?"
   ]
  },
  {
   "cell_type": "code",
   "execution_count": 77,
   "id": "a0819f79",
   "metadata": {},
   "outputs": [
    {
     "name": "stdout",
     "output_type": "stream",
     "text": [
      "Sorting dictionary by using key : \n",
      "\n",
      "➡➡➡   [('a', 56), ('b', 2), ('c', 12), ('d', 24), ('e', 18), ('f', 323)]  ⬅⬅⬅\n",
      "----------------------------------------------------------------------------------------------------\n",
      "Sorting dictionary by using Values : \n",
      "\n",
      "➡➡➡   [('b', 2), ('c', 12), ('e', 18), ('d', 24), ('a', 56), ('f', 323)]  ⬅⬅⬅\n"
     ]
    }
   ],
   "source": [
    "# Referance from https://www.geeksforgeeks.org/python-sort-python-dictionaries-by-key-or-value/\n",
    "atom ={}   \n",
    "\n",
    "atom['a'] = 56      \n",
    "atom['b'] = 2\n",
    "atom['c'] = 12\n",
    "atom['d'] = 24\n",
    "atom['e'] = 18     \n",
    "atom['f'] = 323\n",
    "# ⏩⏩\n",
    "print(\"Sorting dictionary by using key : \")\n",
    "print()\n",
    "print('➡➡➡',end = '   ')\n",
    "print(sorted(atom.items(), key =\n",
    "             lambda kv: kv[0]),' ⬅⬅⬅')  \n",
    "print('--'*50)\n",
    "print(\"Sorting dictionary by using Values : \")\n",
    "print()\n",
    "print('➡➡➡',end = '   ')\n",
    "print(sorted(atom.items(), key =\n",
    "             lambda kv: kv[1]),' ⬅⬅⬅')  "
   ]
  },
  {
   "cell_type": "code",
   "execution_count": 80,
   "id": "3aba34bf",
   "metadata": {},
   "outputs": [
    {
     "name": "stdout",
     "output_type": "stream",
     "text": [
      "❤️ Thank you i-Neuron Team ...! ❤️\n"
     ]
    }
   ],
   "source": [
    "print(\"\\u2764\\ufe0f Thank you i-Neuron Team ...! \\u2764\\ufe0f\")"
   ]
  }
 ],
 "metadata": {
  "kernelspec": {
   "display_name": "Python 3 (ipykernel)",
   "language": "python",
   "name": "python3"
  },
  "language_info": {
   "codemirror_mode": {
    "name": "ipython",
    "version": 3
   },
   "file_extension": ".py",
   "mimetype": "text/x-python",
   "name": "python",
   "nbconvert_exporter": "python",
   "pygments_lexer": "ipython3",
   "version": "3.9.6"
  }
 },
 "nbformat": 4,
 "nbformat_minor": 5
}
