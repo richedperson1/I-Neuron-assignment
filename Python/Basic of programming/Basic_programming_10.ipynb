{
 "cells": [
  {
   "cell_type": "markdown",
   "id": "45f60ebd",
   "metadata": {},
   "source": [
    "# Task 1"
   ]
  },
  {
   "cell_type": "code",
   "execution_count": 8,
   "id": "abc2210b",
   "metadata": {},
   "outputs": [
    {
     "name": "stdout",
     "output_type": "stream",
     "text": [
      "Enter the length of list : 5\n",
      "0 index value : 3\n",
      "1 index value : 96\n",
      "2 index value : 14\n",
      "3 index value : 56\n",
      "4 index value : 36\n",
      "[3, 96, 14, 56, 36]\n",
      "The sum of array is : 205 \n"
     ]
    }
   ],
   "source": [
    "# Python program to find sum of elements in list\n",
    "\n",
    "def sum_array(arr):\n",
    "    try:\n",
    "        return sum(arr)\n",
    "    except Exception as e:\n",
    "        print(e)\n",
    "        \n",
    "try:\n",
    "    length = int(input(\"Enter the length of list : \"))\n",
    "    arr = []\n",
    "    for i in range(length):\n",
    "        num = int(input(f\"{i} index value : \"))\n",
    "        arr.append(num)\n",
    "        \n",
    "    print(arr)\n",
    "    print(f\"The sum of array is : {sum_array(arr)} \")\n",
    "    \n",
    "except Exception as e:\n",
    "    print(e)"
   ]
  },
  {
   "cell_type": "markdown",
   "id": "07c684e0",
   "metadata": {},
   "source": [
    "# Task 2 "
   ]
  },
  {
   "cell_type": "code",
   "execution_count": 3,
   "id": "ce828087",
   "metadata": {},
   "outputs": [
    {
     "name": "stdout",
     "output_type": "stream",
     "text": [
      "[2, 5, 6, 9, 7, 1]\n",
      "Multiply Each element in array is : 3780 \n"
     ]
    }
   ],
   "source": [
    "# Python program to Multiply all numbers in the list\n",
    "arr = [2,5,6,9,7,1]\n",
    "def mul_array(arr):\n",
    "    try:\n",
    "        total = 1\n",
    "        for num in arr:\n",
    "            total*=num\n",
    "        return total\n",
    "    except Exception as e:\n",
    "        print(e)\n",
    "        \n",
    "try:    \n",
    "    print(arr)\n",
    "    print(f\"Multiply Each element in array is : {mul_array(arr)} \")\n",
    "    \n",
    "except Exception as e:\n",
    "    print(e)"
   ]
  },
  {
   "cell_type": "markdown",
   "id": "48a85c99",
   "metadata": {},
   "source": [
    "# Task 3"
   ]
  },
  {
   "cell_type": "code",
   "execution_count": 7,
   "id": "888a7b38",
   "metadata": {},
   "outputs": [
    {
     "name": "stdout",
     "output_type": "stream",
     "text": [
      "[2, 5, 6, 9, 7, -1]\n",
      "Minimum element in array is : -1 \n"
     ]
    }
   ],
   "source": [
    "# Python program to find smallest number in a list\n",
    "\n",
    "arr = [2,5,6,9,7,-1]\n",
    "def min_array(arr):\n",
    "    try:\n",
    "        return min(arr)\n",
    "    except Exception as e:\n",
    "        print(e)\n",
    "        \n",
    "try:    \n",
    "    print(arr)\n",
    "    print(f\"Minimum element in array is : {min_array(arr)} \")\n",
    "    \n",
    "except Exception as e:\n",
    "    print(e)"
   ]
  },
  {
   "cell_type": "markdown",
   "id": "a873b42d",
   "metadata": {},
   "source": [
    "# Task 4"
   ]
  },
  {
   "cell_type": "code",
   "execution_count": 8,
   "id": "d83a213c",
   "metadata": {},
   "outputs": [
    {
     "name": "stdout",
     "output_type": "stream",
     "text": [
      "[2, 5, 6, 9, 7, -1]\n",
      "Maximum element in array is : 9 \n"
     ]
    }
   ],
   "source": [
    "# Python program to find largest number in a list\n",
    "arr = [2,5,6,9,7,-1]\n",
    "def max_array(arr):\n",
    "    try:\n",
    "        return max(arr)\n",
    "    except Exception as e:\n",
    "        print(e)\n",
    "        \n",
    "try:    \n",
    "    print(arr)\n",
    "    print(f\"Maximum element in array is : {max_array(arr)} \")\n",
    "    \n",
    "except Exception as e:\n",
    "    print(e)"
   ]
  },
  {
   "cell_type": "markdown",
   "id": "ada30b88",
   "metadata": {},
   "source": [
    "# Task 5"
   ]
  },
  {
   "cell_type": "code",
   "execution_count": 61,
   "id": "22f86564",
   "metadata": {},
   "outputs": [
    {
     "name": "stdout",
     "output_type": "stream",
     "text": [
      "First large number : 96\n",
      "Second large number : 65\n"
     ]
    }
   ],
   "source": [
    "# Python program to find second largest number in a list\n",
    "arr = [2,8,25,36,65,96]\n",
    "first = arr[0]\n",
    "second= arr[0]\n",
    "try:\n",
    "    for num in arr:\n",
    "        if first < num :\n",
    "            first = num\n",
    "        \n",
    "    for num in arr:\n",
    "        if second < num and num<first:\n",
    "            second = num\n",
    "        \n",
    "    print(f\"First large number : {first}\")\n",
    "    print(f\"Second large number : {second}\")\n",
    "except Exception as e:\n",
    "    print(e)"
   ]
  },
  {
   "cell_type": "markdown",
   "id": "435192f5",
   "metadata": {},
   "source": [
    "# Task 6"
   ]
  },
  {
   "cell_type": "code",
   "execution_count": 62,
   "id": "f6f42105",
   "metadata": {},
   "outputs": [
    {
     "name": "stdout",
     "output_type": "stream",
     "text": [
      "The 3 largest number are : [36, 65, 96] \n"
     ]
    }
   ],
   "source": [
    "# Python program to find N largest elements from a list\n",
    "\n",
    "def n_large_num(arr,n):\n",
    "    try:\n",
    "        arr = sorted(arr)\n",
    "        return arr[-n:]\n",
    "    except Exception as e:\n",
    "        return e\n",
    "  \n",
    "try:\n",
    "    arr = [2,8,25,36,65,96]\n",
    "    k = 3\n",
    "    print(f\"The {k} largest number are : {n_large_num(arr,k)} \")\n",
    "    \n",
    "except Exception as e:\n",
    "    print(e)"
   ]
  },
  {
   "cell_type": "markdown",
   "id": "0286c680",
   "metadata": {},
   "source": [
    "# Task 7"
   ]
  },
  {
   "cell_type": "code",
   "execution_count": 21,
   "id": "9d093a83",
   "metadata": {},
   "outputs": [
    {
     "name": "stdout",
     "output_type": "stream",
     "text": [
      "List : [2, 5, 6, 7, 9, 3, 12, 7, 4]\n",
      "Prime number from list are 2 \n",
      "Prime number from list are 6 \n",
      "Prime number from list are 12 \n",
      "Prime number from list are 4 \n"
     ]
    }
   ],
   "source": [
    "# Python program to print even numbers in a list\n",
    "def prime_num(arr):\n",
    "    try:\n",
    "        for n in arr:\n",
    "            if n&1==0:\n",
    "                yield n\n",
    "    except Exception as e:\n",
    "        return e\n",
    "try:            \n",
    "    \n",
    "    arr = [2,5,6,7,9,3,12,7,4]\n",
    "    primes = prime_num(arr)\n",
    "    print(f\"List : {arr}\")\n",
    "    for prime in primes:\n",
    "        print(f\"Even number from list are {prime} \")\n",
    "        \n",
    "except Exception as e:\n",
    "    print(e)"
   ]
  },
  {
   "cell_type": "markdown",
   "id": "3443914b",
   "metadata": {},
   "source": [
    "# Task 8"
   ]
  },
  {
   "cell_type": "code",
   "execution_count": 23,
   "id": "0022de87",
   "metadata": {},
   "outputs": [
    {
     "name": "stdout",
     "output_type": "stream",
     "text": [
      "List : [2, 5, 6, 7, 9, 3, 12, 7, 4]\n",
      "Odd number from list are 5 \n",
      "Odd number from list are 7 \n",
      "Odd number from list are 9 \n",
      "Odd number from list are 3 \n",
      "Odd number from list are 7 \n"
     ]
    }
   ],
   "source": [
    "# Python program to print odd numbers in a List\n",
    "def prime_num(arr):\n",
    "    try:\n",
    "        for n in arr:\n",
    "            if n&1:\n",
    "                yield n\n",
    "    except Exception as e:\n",
    "        return e\n",
    "try:            \n",
    "    \n",
    "    arr = [2,5,6,7,9,3,12,7,4]\n",
    "    primes = prime_num(arr)\n",
    "    print(f\"List : {arr}\")\n",
    "    for prime in primes:\n",
    "        print(f\"Odd number from list are {prime} \")\n",
    "        \n",
    "except Exception as e:\n",
    "    print(e)"
   ]
  },
  {
   "cell_type": "markdown",
   "id": "ba6b37b7",
   "metadata": {},
   "source": [
    "# Task 9"
   ]
  },
  {
   "cell_type": "code",
   "execution_count": 37,
   "id": "d48e6624",
   "metadata": {},
   "outputs": [
    {
     "name": "stdout",
     "output_type": "stream",
     "text": [
      "Before Removing list : \n",
      "[1, [], 2, 3, [], 4, 5, [], [], 9]\n",
      "\n",
      "After Removing empty list : \n",
      "[1, 2, 3, 4, 5, 9]\n"
     ]
    }
   ],
   "source": [
    "# Python program to Remove empty List from List\n",
    "def remove_lst(arr):\n",
    "    form = []\n",
    "    try:\n",
    "        for lst in arr:\n",
    "            if lst!=[]:\n",
    "                form.append(lst)\n",
    "        return form\n",
    "    except Exception as e:\n",
    "        return e\n",
    "try:    \n",
    "    arr = [1, [], 2, 3, [], 4, 5, [], [], 9]\n",
    "    print(f\"Before Removing list : \\n{arr}\\n\")\n",
    "    print(f\"After Removing empty list : \\n{remove_lst(arr)}\")\n",
    "except Exception as e:\n",
    "    print(e)"
   ]
  },
  {
   "cell_type": "markdown",
   "id": "f5317610",
   "metadata": {},
   "source": [
    "# Task 10"
   ]
  },
  {
   "cell_type": "code",
   "execution_count": 42,
   "id": "52e5d408",
   "metadata": {},
   "outputs": [
    {
     "name": "stdout",
     "output_type": "stream",
     "text": [
      "Original List: [4, 8, 2, 10, 15, 18]\n",
      "After Cloning: [4, 8, 2, 10, 15, 18]\n"
     ]
    }
   ],
   "source": [
    "# Python program to Cloning or Copying a list\n",
    "\n",
    "def Copying(list1):\n",
    "    li_copy =[]\n",
    "    li_copy = list1.copy()\n",
    "    return li_copy\n",
    "     \n",
    "list1 = [4, 8, 2, 10, 15, 18]\n",
    "list2 = Copying(list1)\n",
    "\n",
    "print(\"Original List:\", list1)\n",
    "print(\"After Cloning:\", list2)"
   ]
  },
  {
   "cell_type": "markdown",
   "id": "18a0adbb",
   "metadata": {},
   "source": [
    "# Task 11"
   ]
  },
  {
   "cell_type": "code",
   "execution_count": 54,
   "id": "d62d38df",
   "metadata": {},
   "outputs": [
    {
     "name": "stdout",
     "output_type": "stream",
     "text": [
      "Counting number of 4 in list is : 2\n"
     ]
    }
   ],
   "source": [
    "# Write a Python program to Count occurrences of an element in a list\n",
    "def counting_element(arr,k):\n",
    "    try:\n",
    "        return arr.count(k)\n",
    "    except Exception as e:\n",
    "        return e\n",
    "    \n",
    "list1 = [4,'a', 4,8, 2, 10, 15, 18]\n",
    "k = 4\n",
    "\n",
    "print(f\"Counting number of {k} in list is : {counting_element(list1,k)}\")"
   ]
  },
  {
   "cell_type": "code",
   "execution_count": 60,
   "id": "26766224",
   "metadata": {},
   "outputs": [
    {
     "name": "stdout",
     "output_type": "stream",
     "text": [
      "❤️ Thank you i-Neuron Team ...! ❤️\n"
     ]
    }
   ],
   "source": [
    "print(\"\\u2764\\ufe0f Thank you i-Neuron Team ...! \\u2764\\ufe0f\")"
   ]
  }
 ],
 "metadata": {
  "kernelspec": {
   "display_name": "Python 3 (ipykernel)",
   "language": "python",
   "name": "python3"
  },
  "language_info": {
   "codemirror_mode": {
    "name": "ipython",
    "version": 3
   },
   "file_extension": ".py",
   "mimetype": "text/x-python",
   "name": "python",
   "nbconvert_exporter": "python",
   "pygments_lexer": "ipython3",
   "version": "3.9.6"
  }
 },
 "nbformat": 4,
 "nbformat_minor": 5
}
