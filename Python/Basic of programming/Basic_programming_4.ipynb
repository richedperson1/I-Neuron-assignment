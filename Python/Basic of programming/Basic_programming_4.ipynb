{
 "cells": [
  {
   "cell_type": "markdown",
   "id": "d1ea9890",
   "metadata": {},
   "source": [
    "# Task 1 "
   ]
  },
  {
   "cell_type": "code",
   "execution_count": 22,
   "id": "23d22b6a",
   "metadata": {},
   "outputs": [
    {
     "name": "stdout",
     "output_type": "stream",
     "text": [
      "Write the number for factorial ...!\n",
      "9\n",
      "The factorial of 9! is : \u001b[1m 362880 \u001b[0m\n"
     ]
    }
   ],
   "source": [
    "# Factorial of a Number\n",
    "\n",
    "def factorial(n):\n",
    "    if n<=1:\n",
    "        return 1\n",
    "    else:\n",
    "        return factorial(n-1)*n\n",
    "    \n",
    "\n",
    "# print(\"Write the number for factorial ...! \")\n",
    "n = int(input(\"Write the number for factorial ...!\\n\"))\n",
    "\n",
    "print(f\"The factorial of {n}! is :\",\"\\033[1m\",factorial(n),\"\\033[0m\")"
   ]
  },
  {
   "cell_type": "markdown",
   "id": "2136d0a4",
   "metadata": {},
   "source": [
    "# Task 2"
   ]
  },
  {
   "cell_type": "code",
   "execution_count": 25,
   "id": "e93e7182",
   "metadata": {},
   "outputs": [
    {
     "name": "stdout",
     "output_type": "stream",
     "text": [
      "Write number to see multiplication you want : 13\n",
      "13 * 1   =  13\n",
      "13 * 2   =  26\n",
      "13 * 3   =  39\n",
      "13 * 4   =  52\n",
      "13 * 5   =  65\n",
      "13 * 6   =  78\n",
      "13 * 7   =  91\n",
      "13 * 8   =  104\n",
      "13 * 9   =  117\n",
      "13 * 10  =  130\n",
      "\n"
     ]
    }
   ],
   "source": [
    "# Display the multiplication Table\n",
    "# i = 1\n",
    "def multiplication(n,i=1):\n",
    "    if i==10:\n",
    "        print(f\"{n} * 10  =  {n*10}\")\n",
    "        return \"\"\n",
    "    \n",
    "    print(f\"{n} * {i}   =  {n*i}\")\n",
    "    return multiplication(n,i+1)\n",
    "\n",
    "val = int(input(\"Write number to see multiplication you want : \"))\n",
    "\n",
    "print(multiplication(val))"
   ]
  },
  {
   "cell_type": "markdown",
   "id": "7eabe828",
   "metadata": {},
   "source": [
    "# Task 3"
   ]
  },
  {
   "cell_type": "code",
   "execution_count": 27,
   "id": "b3641fda",
   "metadata": {},
   "outputs": [
    {
     "name": "stdout",
     "output_type": "stream",
     "text": [
      "Put the value upto you find fibonacci series : 10\n",
      "(0, '---->', 1)\n",
      "(1, '---->', 1)\n",
      "(2, '---->', 2)\n",
      "(3, '---->', 3)\n",
      "(4, '---->', 5)\n",
      "(5, '---->', 8)\n",
      "(6, '---->', 13)\n",
      "(7, '---->', 21)\n",
      "(8, '---->', 34)\n",
      "(9, '---->', 55)\n",
      "(10, '---->', 89)\n"
     ]
    }
   ],
   "source": [
    "# Print the Fibonacci sequence\n",
    "def feb(n):\n",
    "    a = 1\n",
    "    b = 1\n",
    "    for i in range(n+1):\n",
    "        yield i,\"---->\",a\n",
    "        a,b = b,a+b\n",
    "        \n",
    "n  = int(input(\"Put the value upto you find fibonacci series : \"))\n",
    "series = feb(n)\n",
    "\n",
    "for i in series:\n",
    "    print(i)\n"
   ]
  },
  {
   "cell_type": "markdown",
   "id": "cf3de05a",
   "metadata": {},
   "source": [
    "# Task 4"
   ]
  },
  {
   "cell_type": "code",
   "execution_count": 5,
   "id": "3286be3c",
   "metadata": {},
   "outputs": [
    {
     "name": "stdout",
     "output_type": "stream",
     "text": [
      "Place number to check armstrong number or not ? 1\n"
     ]
    },
    {
     "data": {
      "text/plain": [
       "'1 is Armstrong Number'"
      ]
     },
     "execution_count": 5,
     "metadata": {},
     "output_type": "execute_result"
    }
   ],
   "source": [
    "# Check Armstrong Number\n",
    "\n",
    "def asmstrong_nums(nums):\n",
    "    num = str(nums)\n",
    "    power = len(num)\n",
    "    total = 0\n",
    "    for digit in num:\n",
    "        total+=int(digit)**power\n",
    "    if total==nums:\n",
    "        return f\"{nums} is Armstrong Number\"\n",
    "    else:\n",
    "        return f\"{nums} is not Armstrong Number\"\n",
    "    \n",
    "\n",
    "num = int(input(\"Place number to check armstrong number or not ? \"))\n",
    "    \n",
    "asmstrong_nums(num)"
   ]
  },
  {
   "cell_type": "markdown",
   "id": "63d3be6d",
   "metadata": {},
   "source": [
    "# Task 5 "
   ]
  },
  {
   "cell_type": "code",
   "execution_count": 29,
   "id": "d08bba11",
   "metadata": {},
   "outputs": [
    {
     "name": "stdout",
     "output_type": "stream",
     "text": [
      "Put the range for armstrong number interval 10 1000\n",
      "153\n",
      "370\n",
      "371\n",
      "407\n"
     ]
    }
   ],
   "source": [
    "def check(nums):\n",
    "    num = str(nums)\n",
    "    power = len(num)\n",
    "    total = 0\n",
    "    for digit in num:\n",
    "        total+=int(digit)**power\n",
    "    if total==nums:\n",
    "        return True\n",
    "    else:\n",
    "        return False\n",
    "    \n",
    "\n",
    "def asmstrong_nums_interval(low,high):\n",
    "    for num in range(low,high+1):\n",
    "        if check(num):\n",
    "            yield num\n",
    "        \n",
    "\n",
    "low,high = map(int,input(\"Put the range for armstrong number interval \").rstrip().split())\n",
    "\n",
    "nums_list = asmstrong_nums_interval(low,high)\n",
    "for num in nums_list:\n",
    "    print(num)"
   ]
  },
  {
   "cell_type": "markdown",
   "id": "c119a2b6",
   "metadata": {},
   "source": [
    "# Task 6 "
   ]
  },
  {
   "cell_type": "code",
   "execution_count": 19,
   "id": "64d3d3ca",
   "metadata": {},
   "outputs": [
    {
     "name": "stdout",
     "output_type": "stream",
     "text": [
      "Please put number for sum of natural numbers 56\n",
      "The sum is 1596\n",
      "The sum is 1596\n"
     ]
    }
   ],
   "source": [
    "# Iterator method to calculate sum of natural number's\n",
    "# Sum of Natural Numbers\n",
    "\n",
    "def sum_of_natural_1(num):\n",
    "    if num < 0:\n",
    "        print(\"Enter a positive number\")\n",
    "    else:\n",
    "        sum = 0\n",
    "        for nums in range(1, num+1):\n",
    "            sum += nums\n",
    "\n",
    "\n",
    "        return f\"The sum is {sum}\"\n",
    "    \n",
    "# formula base method to calculate sum of natural number\n",
    "# n*(n+1)/2\n",
    "def sum_of_natural_2(num):\n",
    "    sum = num*(num+1)//2\n",
    "    return f\"The sum is {sum}\"\n",
    "    \n",
    "\n",
    "\n",
    "num = int(input(\"Please put number for sum of natural numbers \"))\n",
    "\n",
    "\n",
    "\n",
    "print(sum_of_natural_1(num))\n",
    "print(sum_of_natural_2(num))"
   ]
  },
  {
   "cell_type": "code",
   "execution_count": 18,
   "id": "94216cdf",
   "metadata": {},
   "outputs": [
    {
     "name": "stdout",
     "output_type": "stream",
     "text": [
      "❤️ Thank you i-neuron ...! ❤️\n"
     ]
    }
   ],
   "source": [
    "print(\"\\u2764\\ufe0f Thank you i-neuron ...! \\u2764\\ufe0f\")"
   ]
  }
 ],
 "metadata": {
  "kernelspec": {
   "display_name": "Python 3 (ipykernel)",
   "language": "python",
   "name": "python3"
  },
  "language_info": {
   "codemirror_mode": {
    "name": "ipython",
    "version": 3
   },
   "file_extension": ".py",
   "mimetype": "text/x-python",
   "name": "python",
   "nbconvert_exporter": "python",
   "pygments_lexer": "ipython3",
   "version": "3.9.6"
  }
 },
 "nbformat": 4,
 "nbformat_minor": 5
}
