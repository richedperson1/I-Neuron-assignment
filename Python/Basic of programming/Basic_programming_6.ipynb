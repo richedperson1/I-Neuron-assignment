{
 "cells": [
  {
   "cell_type": "markdown",
   "id": "8a4dce70",
   "metadata": {},
   "source": [
    "# Task 1 "
   ]
  },
  {
   "cell_type": "code",
   "execution_count": 32,
   "id": "510ce0e9",
   "metadata": {},
   "outputs": [
    {
     "name": "stdout",
     "output_type": "stream",
     "text": [
      "Enter index for Fibonacci Sequence : 10\n",
      "55\n"
     ]
    }
   ],
   "source": [
    "# Display Fibonacci Sequence Using Recursion\n",
    "def febo_1(num):\n",
    "    if num <= 1:\n",
    "        return num\n",
    "    else:\n",
    "        return(febo_1(num-1) + febo_1(num-2))\n",
    "    \n",
    "try:  \n",
    "    num = int(input(\"Enter index for Fibonacci Sequence : \"))\n",
    "    print(febo_1(num))\n",
    "except Exception as e:\n",
    "    print(e)"
   ]
  },
  {
   "cell_type": "markdown",
   "id": "9e3b8070",
   "metadata": {},
   "source": [
    "# Task 2"
   ]
  },
  {
   "cell_type": "code",
   "execution_count": 33,
   "id": "a2ecb203",
   "metadata": {},
   "outputs": [
    {
     "name": "stdout",
     "output_type": "stream",
     "text": [
      "Enter the number for factorial ...!\n",
      "10\n",
      "The factorial of 10! is : \u001b[1m 3628800 \u001b[0m\n"
     ]
    }
   ],
   "source": [
    "# Factorial of a Number\n",
    "\n",
    "def factorial(n):\n",
    "    if n<=1:\n",
    "        return 1\n",
    "    else:\n",
    "        return factorial(n-1)*n\n",
    "    \n",
    "\n",
    "try:\n",
    "    n = int(input(\"Enter the number for factorial ...!\\n\"))\n",
    "    print(f\"The factorial of {n}! is :\",\"\\033[1m\",factorial(n),\"\\033[0m\")\n",
    "    \n",
    "except Exception as e:\n",
    "    print(e)"
   ]
  },
  {
   "cell_type": "markdown",
   "id": "107c066a",
   "metadata": {},
   "source": [
    "# Task 3"
   ]
  },
  {
   "cell_type": "code",
   "execution_count": 40,
   "id": "dfb18457",
   "metadata": {},
   "outputs": [
    {
     "name": "stdout",
     "output_type": "stream",
     "text": [
      "Enter height in meter     : 25\n",
      "Enter weight in kilo-gram : 25\n",
      "0.04\n"
     ]
    }
   ],
   "source": [
    "def BMI_cal(height, weight):\n",
    "    bmi = weight/(height**2)\n",
    "    return bmi\n",
    "\n",
    "try: \n",
    "    height = float(input(\"Enter height in meter     : \"))\n",
    "    weight = float(input(\"Enter weight in kilo-gram : \"))\n",
    "    print(BMI_cal(height,weight))\n",
    "except Exception as e:\n",
    "    print(e)"
   ]
  },
  {
   "cell_type": "markdown",
   "id": "ed9b779c",
   "metadata": {},
   "source": [
    "# Task 4"
   ]
  },
  {
   "cell_type": "code",
   "execution_count": 41,
   "id": "9790c42b",
   "metadata": {},
   "outputs": [
    {
     "name": "stdout",
     "output_type": "stream",
     "text": [
      "Enter number to calculate logarithms : 5\n",
      "The natural log of 5.0 is 1.6094379124341003\n"
     ]
    }
   ],
   "source": [
    "from math import *\n",
    "try:\n",
    "    num = float(input(\"Enter number to calculate logarithms : \"))\n",
    "    print(f\"The natural log of {num} is {log(num)}\")\n",
    "except Exception as e:\n",
    "    print(e)"
   ]
  },
  {
   "cell_type": "markdown",
   "id": "f881f289",
   "metadata": {},
   "source": [
    "# Task 5"
   ]
  },
  {
   "cell_type": "code",
   "execution_count": 42,
   "id": "acba75ac",
   "metadata": {},
   "outputs": [
    {
     "name": "stdout",
     "output_type": "stream",
     "text": [
      "Enter number for cube sum : 25\n",
      "Cube sum of [25] natural numbers is 105625\n"
     ]
    }
   ],
   "source": [
    "# Python Program for cube sum of first n natural numbers\n",
    "\n",
    "def cube_sum(n):\n",
    "    total = 0\n",
    "    for i in range(1, n+1):\n",
    "        total += i**3\n",
    "    return total\n",
    "\n",
    "\n",
    "try:\n",
    "    num = int(input(\"Enter number for cube sum : \"))\n",
    "    print(f\"Cube sum of [{num}] natural numbers is {cube_sum(num)}\")\n",
    "except Exception as e:\n",
    "    print(e)"
   ]
  },
  {
   "cell_type": "code",
   "execution_count": 43,
   "id": "0d8a7fba",
   "metadata": {},
   "outputs": [
    {
     "name": "stdout",
     "output_type": "stream",
     "text": [
      "❤️ Thank you i-Neuron Team ...! ❤️\n"
     ]
    }
   ],
   "source": [
    "print(\"\\u2764\\ufe0f Thank you i-Neuron Team ...! \\u2764\\ufe0f\")"
   ]
  }
 ],
 "metadata": {
  "kernelspec": {
   "display_name": "Python 3 (ipykernel)",
   "language": "python",
   "name": "python3"
  },
  "language_info": {
   "codemirror_mode": {
    "name": "ipython",
    "version": 3
   },
   "file_extension": ".py",
   "mimetype": "text/x-python",
   "name": "python",
   "nbconvert_exporter": "python",
   "pygments_lexer": "ipython3",
   "version": "3.9.6"
  }
 },
 "nbformat": 4,
 "nbformat_minor": 5
}
