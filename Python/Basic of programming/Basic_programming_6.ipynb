{
 "cells": [
  {
   "cell_type": "markdown",
   "id": "17aa577a",
   "metadata": {},
   "source": [
    "# Task 1 "
   ]
  },
  {
   "cell_type": "code",
   "execution_count": 48,
   "id": "e5b779cf",
   "metadata": {},
   "outputs": [
    {
     "name": "stdout",
     "output_type": "stream",
     "text": [
      "Enter index for Fibonacci Sequence : 25\n",
      "Fibonacci number at 25 is \u001b[1m75025\n"
     ]
    }
   ],
   "source": [
    "# Display Fibonacci Sequence Using Recursion\n",
    "def febo_1(num):\n",
    "    if num <= 1:\n",
    "        return num\n",
    "    else:\n",
    "        return(febo_1(num-1) + febo_1(num-2))\n",
    "    \n",
    "try:  \n",
    "    num = int(input(\"Enter index for Fibonacci Sequence : \"))\n",
    "    print(f\"Fibonacci number at {num} is \\033[1m{febo_1(num)}\")\n",
    "except Exception as e:\n",
    "    print(e)"
   ]
  },
  {
   "cell_type": "markdown",
   "id": "1c3d7444",
   "metadata": {},
   "source": [
    "# Task 2"
   ]
  },
  {
   "cell_type": "code",
   "execution_count": 50,
   "id": "4226ca7e",
   "metadata": {},
   "outputs": [
    {
     "name": "stdout",
     "output_type": "stream",
     "text": [
      "Enter the number for factorial : 10\n",
      "The factorial of 10! is : \u001b[1m 3628800 \u001b[0m\n"
     ]
    }
   ],
   "source": [
    "# Factorial of a Number\n",
    "\n",
    "def factorial(n):\n",
    "    if n<=1:\n",
    "        return 1\n",
    "    else:\n",
    "        return factorial(n-1)*n\n",
    "    \n",
    "\n",
    "try:\n",
    "    n = int(input(\"Enter the number for factorial : \"))\n",
    "    print(f\"The factorial of {n}! is :\",\"\\033[1m\",factorial(n),\"\\033[0m\")\n",
    "    \n",
    "except Exception as e:\n",
    "    print(e)"
   ]
  },
  {
   "cell_type": "markdown",
   "id": "f0f655cc",
   "metadata": {},
   "source": [
    "# Task 3"
   ]
  },
  {
   "cell_type": "code",
   "execution_count": 49,
   "id": "da610276",
   "metadata": {},
   "outputs": [
    {
     "name": "stdout",
     "output_type": "stream",
     "text": [
      "Enter height in meter     : 1.7\n",
      "Enter weight in kilo-gram : 72\n",
      "BMI = \u001b[1m24.913494809688583\n"
     ]
    }
   ],
   "source": [
    "def BMI_cal(height, weight):\n",
    "    bmi = weight/(height**2)\n",
    "    return bmi\n",
    "\n",
    "try: \n",
    "    height = float(input(\"Enter height in meter     : \"))\n",
    "    weight = float(input(\"Enter weight in kilo-gram : \"))\n",
    "    print(f\"BMI = \\033[1m{BMI_cal(height,weight)}\")\n",
    "except Exception as e:\n",
    "    print(e)"
   ]
  },
  {
   "cell_type": "markdown",
   "id": "3eb1b2a3",
   "metadata": {},
   "source": [
    "# Task 4"
   ]
  },
  {
   "cell_type": "code",
   "execution_count": 51,
   "id": "aedfdc75",
   "metadata": {},
   "outputs": [
    {
     "name": "stdout",
     "output_type": "stream",
     "text": [
      "Enter number to calculate logarithms : 5\n",
      "The natural log of 5.0 is \u001b[1m1.6094379124341003\n"
     ]
    }
   ],
   "source": [
    "from math import *\n",
    "try:\n",
    "    num = float(input(\"Enter number to calculate logarithms : \"))\n",
    "    print(f\"The natural log of {num} is \\033[1m{log(num)}\")\n",
    "except Exception as e:\n",
    "    print(e)"
   ]
  },
  {
   "cell_type": "markdown",
   "id": "cd660e1d",
   "metadata": {},
   "source": [
    "# Task 5"
   ]
  },
  {
   "cell_type": "code",
   "execution_count": 52,
   "id": "b5e67c45",
   "metadata": {},
   "outputs": [
    {
     "name": "stdout",
     "output_type": "stream",
     "text": [
      "Enter number for cube sum : 5\n",
      "Cube sum of [5] natural numbers is \u001b[1m225\n"
     ]
    }
   ],
   "source": [
    "# Python Program for cube sum of first n natural numbers\n",
    "\n",
    "def cube_sum(n):\n",
    "    total = 0\n",
    "    for i in range(1, n+1):\n",
    "        total += i**3\n",
    "    return total\n",
    "\n",
    "\n",
    "try:\n",
    "    num = int(input(\"Enter number for cube sum : \"))\n",
    "    print(f\"Cube sum of [{num}] natural numbers is \\033[1m{cube_sum(num)}\")\n",
    "except Exception as e:\n",
    "    print(e)"
   ]
  },
  {
   "cell_type": "code",
   "execution_count": 53,
   "id": "5755f423",
   "metadata": {},
   "outputs": [
    {
     "name": "stdout",
     "output_type": "stream",
     "text": [
      "❤️ Thank you i-Neuron Team ...! ❤️\n"
     ]
    }
   ],
   "source": [
    "print(\"\\u2764\\ufe0f Thank you i-Neuron Team ...! \\u2764\\ufe0f\")"
   ]
  }
 ],
 "metadata": {
  "kernelspec": {
   "display_name": "Python 3 (ipykernel)",
   "language": "python",
   "name": "python3"
  },
  "language_info": {
   "codemirror_mode": {
    "name": "ipython",
    "version": 3
   },
   "file_extension": ".py",
   "mimetype": "text/x-python",
   "name": "python",
   "nbconvert_exporter": "python",
   "pygments_lexer": "ipython3",
   "version": "3.9.6"
  }
 },
 "nbformat": 4,
 "nbformat_minor": 5
}
