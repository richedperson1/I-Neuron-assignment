{
 "cells": [
  {
   "cell_type": "markdown",
   "id": "69891583",
   "metadata": {},
   "source": [
    "# Task 1"
   ]
  },
  {
   "cell_type": "code",
   "execution_count": 1,
   "id": "ffcd82cc",
   "metadata": {},
   "outputs": [
    {
     "name": "stdout",
     "output_type": "stream",
     "text": [
      "Please Enter length of array : 5\n",
      "Enter value in array : 2\n",
      "Enter value in array : 36\n",
      "Enter value in array : 56\n",
      "Enter value in array : 96\n",
      "Enter value in array : 78\n",
      "The sum of array is : 268.0\n"
     ]
    }
   ],
   "source": [
    "# Python Program to find sum of array\n",
    "def sum_of_array(arr):\n",
    "    return sum(arr)\n",
    "try:\n",
    "    n = int(input(\"Please Enter length of array : \"))\n",
    "    arr = []\n",
    "    for i in range(n):\n",
    "        arr.append(float(input(\"Enter value in array : \")))\n",
    "\n",
    "    print(f\"The sum of array is : {sum_of_array(arr)}\")\n",
    "    \n",
    "except Exception as e:\n",
    "    print(e)"
   ]
  },
  {
   "cell_type": "markdown",
   "id": "096f1a64",
   "metadata": {},
   "source": [
    "# Task 2"
   ]
  },
  {
   "cell_type": "code",
   "execution_count": 2,
   "id": "16a3a0b9",
   "metadata": {},
   "outputs": [
    {
     "name": "stdout",
     "output_type": "stream",
     "text": [
      "Please Enter length of array : 4\n",
      "Enter value in array : 5596454165\n",
      "Enter value in array : 545\n",
      "Enter value in array : d56\n",
      "could not convert string to float: 'd56'\n"
     ]
    }
   ],
   "source": [
    "# Python Program to find largest element in an array\n",
    "def largest_element(arr):\n",
    "    return max(arr)\n",
    "\n",
    "try:\n",
    "    n = int(input(\"Please Enter length of array : \"))\n",
    "    arr = []\n",
    "    for i in range(n):\n",
    "        arr.append(float(input(\"Enter value in array : \")))\n",
    "\n",
    "    print(f\"The Largest element of array is : {largest_element(arr)}\")\n",
    "    \n",
    "except Exception as e:\n",
    "    print(e)"
   ]
  },
  {
   "cell_type": "markdown",
   "id": "f8fe2b34",
   "metadata": {},
   "source": [
    "# Task 3 "
   ]
  },
  {
   "cell_type": "code",
   "execution_count": 3,
   "id": "dadf59d3",
   "metadata": {},
   "outputs": [
    {
     "name": "stdout",
     "output_type": "stream",
     "text": [
      "Please Enter length of array : 4\n",
      "Enter value in array : 36\n",
      "Enter value in array : 45\n",
      "Enter value in array : 69\n",
      "Enter value in array : 45\n",
      "The rotated array is : [45.0, 69.0, 45.0, 36.0]\n"
     ]
    }
   ],
   "source": [
    "# Python Program for array rotation\n",
    "\n",
    "def largest_element(arr):\n",
    "    return (arr[::-1])\n",
    "\n",
    "try:\n",
    "    n = int(input(\"Please Enter length of array : \"))\n",
    "    arr = []\n",
    "    for i in range(n):\n",
    "        arr.append(float(input(\"Enter value in array : \")))\n",
    "\n",
    "    print(f\"The rotated array is : {largest_element(arr)}\")\n",
    "    \n",
    "except Exception as e:\n",
    "    print(e)"
   ]
  },
  {
   "cell_type": "markdown",
   "id": "ead50bd9",
   "metadata": {},
   "source": [
    "# Task 4 "
   ]
  },
  {
   "cell_type": "code",
   "execution_count": 12,
   "id": "809646a8",
   "metadata": {},
   "outputs": [
    {
     "name": "stdout",
     "output_type": "stream",
     "text": [
      "Please Enter length of array : 4\n",
      "Enter value in array : 1 \n",
      "Enter value in array : 2\n",
      "Enter value in array : 3\n",
      "Enter value in array : 4\n",
      "The split array is : ['3', '4', '1 ', '2'] from ['1 ', '2', '3', '4']\n"
     ]
    }
   ],
   "source": [
    "# Python Program to Split the array and add the first part to the end\n",
    "\n",
    "def dividing_array(a):\n",
    "    k = 2\n",
    "    b = a[:k]\n",
    "    return (a[k::]+b[::])\n",
    "\n",
    "\n",
    "# main\n",
    "try:\n",
    "    position = 2\n",
    "    n = int(input(\"Please Enter length of array : \"))\n",
    "    arr = []\n",
    "    for i in range(n):\n",
    "        arr.append(input(\"Enter value in array : \"))\n",
    "\n",
    "    print(f\"The split array is : {dividing_array(arr)} from {arr}\")\n",
    "    \n",
    "except Exception as e:\n",
    "    print(e)\n",
    "    "
   ]
  },
  {
   "cell_type": "markdown",
   "id": "c21aaa88",
   "metadata": {},
   "source": [
    "# Task 5"
   ]
  },
  {
   "cell_type": "markdown",
   "id": "5c099328",
   "metadata": {},
   "source": [
    "## Method 1"
   ]
  },
  {
   "cell_type": "code",
   "execution_count": 34,
   "id": "d434f9d4",
   "metadata": {},
   "outputs": [
    {
     "name": "stdout",
     "output_type": "stream",
     "text": [
      "Please Enter length of array : 4\n",
      "Enter value in array : 4\n",
      "Enter value in array : 5\n",
      "Enter value in array : 6\n",
      "Enter value in array : 7\n",
      "The array = ['4', '5', '6', '7'] is Monotonic array\n"
     ]
    }
   ],
   "source": [
    "# Python Program to check if given array is Monotonic\n",
    "\n",
    "def monotonic(arr):\n",
    "    n = len(arr)\n",
    "    if n==0:\n",
    "        return False\n",
    "    if n==1:\n",
    "        return True\n",
    "    if arr[0]>arr[-1]:\n",
    "        for i in range(1,n):\n",
    "            prev = arr[i-1]\n",
    "            if prev<arr[i]:\n",
    "                return 'is not'\n",
    "                \n",
    "        else:\n",
    "            return 'is'\n",
    "    else:\n",
    "        for i in range(1,n):\n",
    "            prev = arr[i-1]\n",
    "            if prev > arr[i]:\n",
    "                return 'is not'\n",
    "        else:\n",
    "            return 'is'\n",
    "        \n",
    "try:\n",
    "    n = int(input(\"Please Enter length of array : \"))\n",
    "    arr = []\n",
    "    for i in range(n):\n",
    "        arr.append(input(\"Enter value in array : \"))\n",
    "\n",
    "    print(f\"The array = {arr} {monotonic(arr)} Monotonic array\")\n",
    "    \n",
    "except Exception as e:\n",
    "    print(e)"
   ]
  },
  {
   "cell_type": "markdown",
   "id": "43a2f62d",
   "metadata": {},
   "source": [
    "## Method 2 :\n"
   ]
  },
  {
   "cell_type": "code",
   "execution_count": 56,
   "id": "7121a5b3",
   "metadata": {},
   "outputs": [
    {
     "name": "stdout",
     "output_type": "stream",
     "text": [
      "Array = [1, 21, -10]\n",
      "Given array is not monotonic\n"
     ]
    }
   ],
   "source": [
    "def monotonic( A) :\n",
    "\n",
    "    increase = True\n",
    "    decrease = True\n",
    "\n",
    "    for i in range(len(A)-1):\n",
    "\n",
    "        if A[i] > A[i+1]:\n",
    "            increase = False\n",
    "\n",
    "        if A[i] < A[i+1]:\n",
    "            decrease = False\n",
    "\n",
    "    return increase or decrease\n",
    "\n",
    "arr = [1,21,-10]\n",
    "print(f\"Array = {arr}\")\n",
    "\n",
    "if monotonic(arr):\n",
    "    print(\"Given array is monotonic\")\n",
    "else:\n",
    "    print(\"Given array is not monotonic\")\n"
   ]
  },
  {
   "cell_type": "code",
   "execution_count": 57,
   "id": "3c859629",
   "metadata": {},
   "outputs": [
    {
     "name": "stdout",
     "output_type": "stream",
     "text": [
      "❤️ Thank you i-Neuron Team ...! ❤️\n"
     ]
    }
   ],
   "source": [
    "print(\"\\u2764\\ufe0f Thank you i-Neuron Team ...! \\u2764\\ufe0f\")"
   ]
  }
 ],
 "metadata": {
  "kernelspec": {
   "display_name": "Python 3 (ipykernel)",
   "language": "python",
   "name": "python3"
  },
  "language_info": {
   "codemirror_mode": {
    "name": "ipython",
    "version": 3
   },
   "file_extension": ".py",
   "mimetype": "text/x-python",
   "name": "python",
   "nbconvert_exporter": "python",
   "pygments_lexer": "ipython3",
   "version": "3.9.6"
  }
 },
 "nbformat": 4,
 "nbformat_minor": 5
}
